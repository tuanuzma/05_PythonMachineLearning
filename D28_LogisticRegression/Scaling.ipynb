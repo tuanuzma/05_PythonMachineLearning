{
 "cells": [
  {
   "cell_type": "code",
   "execution_count": 1,
   "id": "675c29f7-7907-473c-b174-1b46bc930615",
   "metadata": {},
   "outputs": [],
   "source": [
    "import numpy as np\n",
    "import matplotlib.pyplot as plt\n",
    "from sklearn.preprocessing import StandardScaler\n",
    "from sklearn.preprocessing import MinMaxScaler"
   ]
  },
  {
   "cell_type": "code",
   "execution_count": 2,
   "id": "91fa9378-4a2c-42a8-994f-bad543177840",
   "metadata": {},
   "outputs": [],
   "source": [
    "indices = np.array([1, 2, 3, 4, 5])\n",
    "values = np.array([10, 15, 20, 25, 30])"
   ]
  },
  {
   "cell_type": "markdown",
   "id": "d91af106-8de7-44ba-b077-f38868c1fd9a",
   "metadata": {},
   "source": [
    "### Standardized data\n",
    "\n",
    "##### Mean value becomes 0\n",
    "##### Standard Deviation value becomes 1"
   ]
  },
  {
   "cell_type": "code",
   "execution_count": 3,
   "id": "6b646383-5915-4bde-9a73-cc5d7b6b1cb5",
   "metadata": {},
   "outputs": [
    {
     "data": {
      "text/plain": [
       "np.float64(20.0)"
      ]
     },
     "execution_count": 3,
     "metadata": {},
     "output_type": "execute_result"
    }
   ],
   "source": [
    "mean = values.mean()\n",
    "mean"
   ]
  },
  {
   "cell_type": "code",
   "execution_count": 4,
   "id": "f9623e32-6c03-416b-bd34-eafe26e4c017",
   "metadata": {},
   "outputs": [
    {
     "data": {
      "text/plain": [
       "np.float64(7.0710678118654755)"
      ]
     },
     "execution_count": 4,
     "metadata": {},
     "output_type": "execute_result"
    }
   ],
   "source": [
    "std_dev = values.std()\n",
    "std_dev"
   ]
  },
  {
   "cell_type": "code",
   "execution_count": 5,
   "id": "eca1806b-c9cf-4386-a4bd-56b528d00bbb",
   "metadata": {},
   "outputs": [
    {
     "data": {
      "text/plain": [
       "array([-1.41421356, -0.70710678,  0.        ,  0.70710678,  1.41421356])"
      ]
     },
     "execution_count": 5,
     "metadata": {},
     "output_type": "execute_result"
    }
   ],
   "source": [
    "standardized_values = (values - mean) / std_dev\n",
    "standardized_values"
   ]
  },
  {
   "cell_type": "code",
   "execution_count": 6,
   "id": "d6346814-054c-4804-9905-17806043d254",
   "metadata": {},
   "outputs": [
    {
     "data": {
      "text/plain": [
       "np.float64(0.0)"
      ]
     },
     "execution_count": 6,
     "metadata": {},
     "output_type": "execute_result"
    }
   ],
   "source": [
    "standardized_values.mean()"
   ]
  },
  {
   "cell_type": "code",
   "execution_count": 7,
   "id": "0b404663-13c3-4b10-b071-c4d4d035f591",
   "metadata": {},
   "outputs": [
    {
     "data": {
      "text/plain": [
       "np.float64(0.9999999999999999)"
      ]
     },
     "execution_count": 7,
     "metadata": {},
     "output_type": "execute_result"
    }
   ],
   "source": [
    "standardized_values.std()"
   ]
  },
  {
   "cell_type": "code",
   "execution_count": 8,
   "id": "ae394b9d-904f-4ee9-a628-549769288a61",
   "metadata": {},
   "outputs": [
    {
     "data": {
      "image/png": "[encoded data removed]",
      "text/plain": [
       "<Figure size 640x480 with 2 Axes>"
      ]
     },
     "metadata": {},
     "output_type": "display_data"
    }
   ],
   "source": [
    "plt.subplot(1, 2, 1)\n",
    "plt.scatter(indices, values, color='blue', label='original data')\n",
    "plt.title('original data')\n",
    "plt.xlabel('Index')\n",
    "plt.ylabel('Values')\n",
    "plt.grid(True)\n",
    "\n",
    "plt.subplot(1, 2, 2)\n",
    "plt.scatter(indices, standardized_values, color='red', label='standardized data')\n",
    "plt.title('standardized data')\n",
    "plt.xlabel('Index')\n",
    "plt.ylabel('Values')\n",
    "plt.grid(True)\n",
    "\n",
    "plt.tight_layout()\n",
    "plt.show()"
   ]
  },
  {
   "cell_type": "code",
   "execution_count": 9,
   "id": "65eafe93-3180-4123-9021-17b5e52bafd6",
   "metadata": {},
   "outputs": [
    {
     "data": {
      "text/plain": [
       "array([[-1.41421356],\n",
       "       [-0.70710678],\n",
       "       [ 0.        ],\n",
       "       [ 0.70710678],\n",
       "       [ 1.41421356]])"
      ]
     },
     "execution_count": 9,
     "metadata": {},
     "output_type": "execute_result"
    }
   ],
   "source": [
    "scaler = StandardScaler()\n",
    "standardized_values_standard_scaler = scaler.fit_transform(values.reshape(-1, 1))\n",
    "standardized_values_standard_scaler"
   ]
  },
  {
   "cell_type": "code",
   "execution_count": 10,
   "id": "525857e5-3437-498c-9762-aca6cec7f603",
   "metadata": {},
   "outputs": [
    {
     "data": {
      "text/plain": [
       "array([-1.41421356, -0.70710678,  0.        ,  0.70710678,  1.41421356])"
      ]
     },
     "execution_count": 10,
     "metadata": {},
     "output_type": "execute_result"
    }
   ],
   "source": [
    "standardized_values_standard_scaler.flatten()"
   ]
  },
  {
   "cell_type": "code",
   "execution_count": 11,
   "id": "69600c78-f11b-4da5-9d5d-2f621ad88b0e",
   "metadata": {},
   "outputs": [
    {
     "data": {
      "text/plain": [
       "array([-1.41421356, -0.70710678,  0.        ,  0.70710678,  1.41421356])"
      ]
     },
     "execution_count": 11,
     "metadata": {},
     "output_type": "execute_result"
    }
   ],
   "source": [
    "standardized_values"
   ]
  },
  {
   "cell_type": "markdown",
   "id": "dfd300e4-f3fa-4101-91b4-91b65fd50c2d",
   "metadata": {},
   "source": [
    "### Normalized Values\n",
    "\n",
    "##### data scaled between 0 - 1"
   ]
  },
  {
   "cell_type": "code",
   "execution_count": 12,
   "id": "887ef54d-b56e-49a2-a432-26ca770ff94c",
   "metadata": {},
   "outputs": [
    {
     "data": {
      "text/plain": [
       "np.int64(10)"
      ]
     },
     "execution_count": 12,
     "metadata": {},
     "output_type": "execute_result"
    }
   ],
   "source": [
    "min_value = values.min()\n",
    "min_value"
   ]
  },
  {
   "cell_type": "code",
   "execution_count": 13,
   "id": "5c9fbd97-767b-4524-a175-ec19037a88f5",
   "metadata": {},
   "outputs": [
    {
     "data": {
      "text/plain": [
       "np.int64(30)"
      ]
     },
     "execution_count": 13,
     "metadata": {},
     "output_type": "execute_result"
    }
   ],
   "source": [
    "max_value = values.max()\n",
    "max_value"
   ]
  },
  {
   "cell_type": "code",
   "execution_count": 14,
   "id": "27fc23d7-1ca7-484d-92c6-90b2bb17c897",
   "metadata": {},
   "outputs": [
    {
     "data": {
      "text/plain": [
       "array([0.  , 0.25, 0.5 , 0.75, 1.  ])"
      ]
     },
     "execution_count": 14,
     "metadata": {},
     "output_type": "execute_result"
    }
   ],
   "source": [
    "# data scaled between 0 - 1\n",
    "normalized_values = (values - min_value) / (max_value - min_value)\n",
    "normalized_values"
   ]
  },
  {
   "cell_type": "code",
   "execution_count": 15,
   "id": "a48f5dc5-24ac-46e0-b678-b19b07038f59",
   "metadata": {},
   "outputs": [
    {
     "data": {
      "image/png": "[encoded data removed]",
      "text/plain": [
       "<Figure size 640x480 with 2 Axes>"
      ]
     },
     "metadata": {},
     "output_type": "display_data"
    }
   ],
   "source": [
    "plt.subplot(1, 2, 1)\n",
    "plt.scatter(indices, values, color='blue', label='original data')\n",
    "plt.title('original data')\n",
    "plt.xlabel('Index')\n",
    "plt.ylabel('Values')\n",
    "plt.grid(True)\n",
    "\n",
    "plt.subplot(1, 2, 2)\n",
    "plt.scatter(indices, normalized_values, color='red', label='normalized data')\n",
    "plt.title('normalized data')\n",
    "plt.xlabel('Index')\n",
    "plt.ylabel('Values')\n",
    "plt.grid(True)\n",
    "\n",
    "plt.tight_layout()\n",
    "plt.show()"
   ]
  },
  {
   "cell_type": "code",
   "execution_count": 16,
   "id": "d3f32c9e-cf49-4ad6-aa7b-77549ac925e1",
   "metadata": {},
   "outputs": [
    {
     "data": {
      "text/plain": [
       "array([[0.  ],\n",
       "       [0.25],\n",
       "       [0.5 ],\n",
       "       [0.75],\n",
       "       [1.  ]])"
      ]
     },
     "execution_count": 16,
     "metadata": {},
     "output_type": "execute_result"
    }
   ],
   "source": [
    "scaler = MinMaxScaler()\n",
    "normalized_values_minmax_scaler = scaler.fit_transform(values.reshape(-1, 1))\n",
    "normalized_values_minmax_scaler"
   ]
  },
  {
   "cell_type": "code",
   "execution_count": 17,
   "id": "9c044622-1032-44ff-aa35-ceff2a5623a9",
   "metadata": {},
   "outputs": [
    {
     "data": {
      "text/plain": [
       "array([0.  , 0.25, 0.5 , 0.75, 1.  ])"
      ]
     },
     "execution_count": 17,
     "metadata": {},
     "output_type": "execute_result"
    }
   ],
   "source": [
    "normalized_values_minmax_scaler.flatten()"
   ]
  },
  {
   "cell_type": "code",
   "execution_count": 18,
   "id": "608be874-6c7a-441d-9221-a107bfc6aa51",
   "metadata": {},
   "outputs": [
    {
     "data": {
      "text/plain": [
       "array([0.  , 0.25, 0.5 , 0.75, 1.  ])"
      ]
     },
     "execution_count": 18,
     "metadata": {},
     "output_type": "execute_result"
    }
   ],
   "source": [
    "normalized_values"
   ]
  },
  {
   "cell_type": "code",
   "execution_count": null,
   "id": "d26b80cf-0867-4b3d-8f0d-06f46233a508",
   "metadata": {},
   "outputs": [],
   "source": []
  }
 ],
 "metadata": {
  "kernelspec": {
   "display_name": "Python 3 (ipykernel)",
   "language": "python",
   "name": "python3"
  },
  "language_info": {
   "codemirror_mode": {
    "name": "ipython",
    "version": 3
   },
   "file_extension": ".py",
   "mimetype": "text/x-python",
   "name": "python",
   "nbconvert_exporter": "python",
   "pygments_lexer": "ipython3",
   "version": "3.12.4"
  }
 },
 "nbformat": 4,
 "nbformat_minor": 5
}
