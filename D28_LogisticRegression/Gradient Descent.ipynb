{
 "cells": [
  {
   "cell_type": "code",
   "execution_count": 1,
   "id": "4e6f174b-3b45-4152-92cb-c969c72cd9e8",
   "metadata": {},
   "outputs": [],
   "source": [
    "import numpy as np\n",
    "import pandas as pd\n",
    "\n",
    "from sklearn.model_selection import train_test_split\n",
    "from sklearn.linear_model import LinearRegression\n",
    "\n",
    "from matplotlib import pyplot as plt\n",
    "from IPython.display import display, HTML\n",
    "\n",
    "from sklearn.metrics import r2_score"
   ]
  },
  {
   "cell_type": "markdown",
   "id": "11edf369-fdf6-4411-81df-c4ab56f75bb3",
   "metadata": {},
   "source": [
    "### Data Collection"
   ]
  },
  {
   "cell_type": "code",
   "execution_count": 2,
   "id": "164fb3df-058d-45b9-9c50-01d84f0c4c56",
   "metadata": {},
   "outputs": [
    {
     "data": {
      "text/plain": [
       "array([8.5, 9.1, 8.8, 9.5, 9.2])"
      ]
     },
     "execution_count": 2,
     "metadata": {},
     "output_type": "execute_result"
    }
   ],
   "source": [
    "X = np.array([8.5, 9.1, 8.8, 9.5, 9.2])\n",
    "X"
   ]
  },
  {
   "cell_type": "code",
   "execution_count": 3,
   "id": "a9e2433a-5d05-4f6a-80a8-aed750d19b06",
   "metadata": {},
   "outputs": [
    {
     "data": {
      "text/plain": [
       "array([20, 25, 22, 33, 27])"
      ]
     },
     "execution_count": 3,
     "metadata": {},
     "output_type": "execute_result"
    }
   ],
   "source": [
    "y = np.array([20, 25, 22, 33, 27])\n",
    "y"
   ]
  },
  {
   "cell_type": "markdown",
   "id": "722fbbe8-d0ce-4a90-a0b8-8da4b45e87e4",
   "metadata": {},
   "source": [
    "### Design Matrix"
   ]
  },
  {
   "cell_type": "code",
   "execution_count": 4,
   "id": "60a5b6af-680c-43f8-ad41-4c6ee85e6f4f",
   "metadata": {},
   "outputs": [
    {
     "data": {
      "text/html": [
       "<div>\n",
       "<style scoped>\n",
       "    .dataframe tbody tr th:only-of-type {\n",
       "        vertical-align: middle;\n",
       "    }\n",
       "\n",
       "    .dataframe tbody tr th {\n",
       "        vertical-align: top;\n",
       "    }\n",
       "\n",
       "    .dataframe thead th {\n",
       "        text-align: right;\n",
       "    }\n",
       "</style>\n",
       "<table border=\"1\" class=\"dataframe\">\n",
       "  <thead>\n",
       "    <tr style=\"text-align: right;\">\n",
       "      <th></th>\n",
       "      <th>X</th>\n",
       "      <th>y</th>\n",
       "    </tr>\n",
       "  </thead>\n",
       "  <tbody>\n",
       "    <tr>\n",
       "      <th>0</th>\n",
       "      <td>8.5000</td>\n",
       "      <td>20</td>\n",
       "    </tr>\n",
       "    <tr>\n",
       "      <th>1</th>\n",
       "      <td>9.1000</td>\n",
       "      <td>25</td>\n",
       "    </tr>\n",
       "    <tr>\n",
       "      <th>2</th>\n",
       "      <td>8.8000</td>\n",
       "      <td>22</td>\n",
       "    </tr>\n",
       "    <tr>\n",
       "      <th>3</th>\n",
       "      <td>9.5000</td>\n",
       "      <td>33</td>\n",
       "    </tr>\n",
       "    <tr>\n",
       "      <th>4</th>\n",
       "      <td>9.2000</td>\n",
       "      <td>27</td>\n",
       "    </tr>\n",
       "  </tbody>\n",
       "</table>\n",
       "</div>"
      ],
      "text/plain": [
       "       X   y\n",
       "0 8.5000  20\n",
       "1 9.1000  25\n",
       "2 8.8000  22\n",
       "3 9.5000  33\n",
       "4 9.2000  27"
      ]
     },
     "execution_count": 4,
     "metadata": {},
     "output_type": "execute_result"
    }
   ],
   "source": [
    "pd.set_option('display.float_format', lambda x: f'{x:.4f}')\n",
    "myDataFrame = pd.DataFrame(X, columns=['X'])\n",
    "myDataFrame['y'] = y\n",
    "myDataFrame"
   ]
  },
  {
   "cell_type": "code",
   "execution_count": 5,
   "id": "0e36dd3a-2be3-4a80-a5c4-361bbfbb453b",
   "metadata": {},
   "outputs": [
    {
     "data": {
      "text/html": [
       "<div>\n",
       "<style scoped>\n",
       "    .dataframe tbody tr th:only-of-type {\n",
       "        vertical-align: middle;\n",
       "    }\n",
       "\n",
       "    .dataframe tbody tr th {\n",
       "        vertical-align: top;\n",
       "    }\n",
       "\n",
       "    .dataframe thead th {\n",
       "        text-align: right;\n",
       "    }\n",
       "</style>\n",
       "<table border=\"1\" class=\"dataframe\">\n",
       "  <thead>\n",
       "    <tr style=\"text-align: right;\">\n",
       "      <th></th>\n",
       "      <th>X</th>\n",
       "      <th>y</th>\n",
       "      <th>ones</th>\n",
       "    </tr>\n",
       "  </thead>\n",
       "  <tbody>\n",
       "    <tr>\n",
       "      <th>0</th>\n",
       "      <td>8.5000</td>\n",
       "      <td>20</td>\n",
       "      <td>1.0000</td>\n",
       "    </tr>\n",
       "    <tr>\n",
       "      <th>1</th>\n",
       "      <td>9.1000</td>\n",
       "      <td>25</td>\n",
       "      <td>1.0000</td>\n",
       "    </tr>\n",
       "    <tr>\n",
       "      <th>2</th>\n",
       "      <td>8.8000</td>\n",
       "      <td>22</td>\n",
       "      <td>1.0000</td>\n",
       "    </tr>\n",
       "    <tr>\n",
       "      <th>3</th>\n",
       "      <td>9.5000</td>\n",
       "      <td>33</td>\n",
       "      <td>1.0000</td>\n",
       "    </tr>\n",
       "    <tr>\n",
       "      <th>4</th>\n",
       "      <td>9.2000</td>\n",
       "      <td>27</td>\n",
       "      <td>1.0000</td>\n",
       "    </tr>\n",
       "  </tbody>\n",
       "</table>\n",
       "</div>"
      ],
      "text/plain": [
       "       X   y   ones\n",
       "0 8.5000  20 1.0000\n",
       "1 9.1000  25 1.0000\n",
       "2 8.8000  22 1.0000\n",
       "3 9.5000  33 1.0000\n",
       "4 9.2000  27 1.0000"
      ]
     },
     "execution_count": 5,
     "metadata": {},
     "output_type": "execute_result"
    }
   ],
   "source": [
    "myDataFrame['ones'] = np.ones(len(X))\n",
    "myDataFrame"
   ]
  },
  {
   "cell_type": "code",
   "execution_count": 6,
   "id": "e3dce66a-6628-4cc7-a282-29b2e08bb251",
   "metadata": {},
   "outputs": [
    {
     "data": {
      "text/html": [
       "<div>\n",
       "<style scoped>\n",
       "    .dataframe tbody tr th:only-of-type {\n",
       "        vertical-align: middle;\n",
       "    }\n",
       "\n",
       "    .dataframe tbody tr th {\n",
       "        vertical-align: top;\n",
       "    }\n",
       "\n",
       "    .dataframe thead th {\n",
       "        text-align: right;\n",
       "    }\n",
       "</style>\n",
       "<table border=\"1\" class=\"dataframe\">\n",
       "  <thead>\n",
       "    <tr style=\"text-align: right;\">\n",
       "      <th></th>\n",
       "      <th>ones</th>\n",
       "      <th>X</th>\n",
       "    </tr>\n",
       "  </thead>\n",
       "  <tbody>\n",
       "    <tr>\n",
       "      <th>0</th>\n",
       "      <td>1.0000</td>\n",
       "      <td>8.5000</td>\n",
       "    </tr>\n",
       "    <tr>\n",
       "      <th>1</th>\n",
       "      <td>1.0000</td>\n",
       "      <td>9.1000</td>\n",
       "    </tr>\n",
       "    <tr>\n",
       "      <th>2</th>\n",
       "      <td>1.0000</td>\n",
       "      <td>8.8000</td>\n",
       "    </tr>\n",
       "    <tr>\n",
       "      <th>3</th>\n",
       "      <td>1.0000</td>\n",
       "      <td>9.5000</td>\n",
       "    </tr>\n",
       "    <tr>\n",
       "      <th>4</th>\n",
       "      <td>1.0000</td>\n",
       "      <td>9.2000</td>\n",
       "    </tr>\n",
       "  </tbody>\n",
       "</table>\n",
       "</div>"
      ],
      "text/plain": [
       "    ones      X\n",
       "0 1.0000 8.5000\n",
       "1 1.0000 9.1000\n",
       "2 1.0000 8.8000\n",
       "3 1.0000 9.5000\n",
       "4 1.0000 9.2000"
      ]
     },
     "execution_count": 6,
     "metadata": {},
     "output_type": "execute_result"
    }
   ],
   "source": [
    "design_matrix = myDataFrame[['ones', 'X']]\n",
    "design_matrix"
   ]
  },
  {
   "cell_type": "markdown",
   "id": "f3e6e1fd-2688-492b-b473-e09e0989a65d",
   "metadata": {},
   "source": [
    "### Finding Coefficient and Intercept"
   ]
  },
  {
   "cell_type": "code",
   "execution_count": 7,
   "id": "c549f671-6d4f-4cd6-b29b-716fe80cb30c",
   "metadata": {},
   "outputs": [
    {
     "name": "stdout",
     "output_type": "stream",
     "text": [
      "Coefficient: -89.03741496601135\n",
      "Intercept: 12.687074829934822\n"
     ]
    }
   ],
   "source": [
    "theta = np.linalg.inv(design_matrix.T.dot(design_matrix)).dot(design_matrix.T).dot(y)\n",
    "coefficient, intercept = theta\n",
    "print(f\"Coefficient: {coefficient}\")\n",
    "print(f\"Intercept: {intercept}\")"
   ]
  },
  {
   "cell_type": "markdown",
   "id": "ca4437e7-69ae-4a14-b531-79fbc8d5e8ec",
   "metadata": {},
   "source": [
    "### Finding Coefficient and Intercept using Gradient Descent Method"
   ]
  },
  {
   "cell_type": "markdown",
   "id": "e257993f-3a93-4972-9bf9-f869e85f9cd1",
   "metadata": {},
   "source": [
    "https://www.geeksforgeeks.org/gradient-descent-in-linear-regression/"
   ]
  },
  {
   "cell_type": "code",
   "execution_count": 8,
   "id": "dfaa88ea-897d-4e06-9e8e-b345c35b7929",
   "metadata": {},
   "outputs": [
    {
     "data": {
      "text/plain": [
       "array([8.5, 9.1, 8.8, 9.5, 9.2])"
      ]
     },
     "execution_count": 8,
     "metadata": {},
     "output_type": "execute_result"
    }
   ],
   "source": [
    "X"
   ]
  },
  {
   "cell_type": "code",
   "execution_count": 9,
   "id": "2ab01452-c28c-43bc-81fa-b4f47696b184",
   "metadata": {},
   "outputs": [
    {
     "data": {
      "text/plain": [
       "array([20, 25, 22, 33, 27])"
      ]
     },
     "execution_count": 9,
     "metadata": {},
     "output_type": "execute_result"
    }
   ],
   "source": [
    "y"
   ]
  },
  {
   "cell_type": "markdown",
   "id": "369c6234-6286-4579-bf8c-78568b8c8371",
   "metadata": {},
   "source": [
    "#### Standardization"
   ]
  },
  {
   "cell_type": "code",
   "execution_count": 10,
   "id": "0daad7d5-86c2-4374-af70-17b1ce355a66",
   "metadata": {},
   "outputs": [
    {
     "data": {
      "text/plain": [
       "np.float64(9.020000000000001)"
      ]
     },
     "execution_count": 10,
     "metadata": {},
     "output_type": "execute_result"
    }
   ],
   "source": [
    "X_mean = np.mean(X)\n",
    "X_mean"
   ]
  },
  {
   "cell_type": "code",
   "execution_count": 11,
   "id": "39fba0d4-71ae-466c-a8af-7556d67c35b4",
   "metadata": {},
   "outputs": [
    {
     "data": {
      "text/plain": [
       "np.float64(0.3429285639896447)"
      ]
     },
     "execution_count": 11,
     "metadata": {},
     "output_type": "execute_result"
    }
   ],
   "source": [
    "X_std = np.std(X)\n",
    "X_std"
   ]
  },
  {
   "cell_type": "code",
   "execution_count": 12,
   "id": "0172b1af-07ff-4c11-a8ad-4474a7246e6c",
   "metadata": {},
   "outputs": [
    {
     "data": {
      "text/plain": [
       "array([-1.51635079,  0.23328474, -0.64153303,  1.39970842,  0.52489066])"
      ]
     },
     "execution_count": 12,
     "metadata": {},
     "output_type": "execute_result"
    }
   ],
   "source": [
    "X_scaled = (X - X_mean) / X_std\n",
    "X_scaled"
   ]
  },
  {
   "cell_type": "markdown",
   "id": "8bd989d0-afd4-4d61-8046-546f6eb71552",
   "metadata": {},
   "source": [
    "#### Designed Matrix"
   ]
  },
  {
   "cell_type": "code",
   "execution_count": 13,
   "id": "e7c7f7e3-addb-46c8-b6c7-280546d604c9",
   "metadata": {},
   "outputs": [
    {
     "data": {
      "text/html": [
       "<div>\n",
       "<style scoped>\n",
       "    .dataframe tbody tr th:only-of-type {\n",
       "        vertical-align: middle;\n",
       "    }\n",
       "\n",
       "    .dataframe tbody tr th {\n",
       "        vertical-align: top;\n",
       "    }\n",
       "\n",
       "    .dataframe thead th {\n",
       "        text-align: right;\n",
       "    }\n",
       "</style>\n",
       "<table border=\"1\" class=\"dataframe\">\n",
       "  <thead>\n",
       "    <tr style=\"text-align: right;\">\n",
       "      <th></th>\n",
       "      <th>X</th>\n",
       "      <th>y</th>\n",
       "    </tr>\n",
       "  </thead>\n",
       "  <tbody>\n",
       "    <tr>\n",
       "      <th>0</th>\n",
       "      <td>-1.51635079</td>\n",
       "      <td>20</td>\n",
       "    </tr>\n",
       "    <tr>\n",
       "      <th>1</th>\n",
       "      <td>0.23328474</td>\n",
       "      <td>25</td>\n",
       "    </tr>\n",
       "    <tr>\n",
       "      <th>2</th>\n",
       "      <td>-0.64153303</td>\n",
       "      <td>22</td>\n",
       "    </tr>\n",
       "    <tr>\n",
       "      <th>3</th>\n",
       "      <td>1.39970842</td>\n",
       "      <td>33</td>\n",
       "    </tr>\n",
       "    <tr>\n",
       "      <th>4</th>\n",
       "      <td>0.52489066</td>\n",
       "      <td>27</td>\n",
       "    </tr>\n",
       "  </tbody>\n",
       "</table>\n",
       "</div>"
      ],
      "text/plain": [
       "            X   y\n",
       "0 -1.51635079  20\n",
       "1  0.23328474  25\n",
       "2 -0.64153303  22\n",
       "3  1.39970842  33\n",
       "4  0.52489066  27"
      ]
     },
     "execution_count": 13,
     "metadata": {},
     "output_type": "execute_result"
    }
   ],
   "source": [
    "pd.set_option('display.float_format', lambda x: f'{x:.8f}')\n",
    "myDataFrame = pd.DataFrame(X_scaled, columns=['X'])\n",
    "myDataFrame['y'] = y\n",
    "myDataFrame"
   ]
  },
  {
   "cell_type": "code",
   "execution_count": 14,
   "id": "79bc0633-620f-4878-ae38-2d1024fc5087",
   "metadata": {},
   "outputs": [
    {
     "data": {
      "text/html": [
       "<div>\n",
       "<style scoped>\n",
       "    .dataframe tbody tr th:only-of-type {\n",
       "        vertical-align: middle;\n",
       "    }\n",
       "\n",
       "    .dataframe tbody tr th {\n",
       "        vertical-align: top;\n",
       "    }\n",
       "\n",
       "    .dataframe thead th {\n",
       "        text-align: right;\n",
       "    }\n",
       "</style>\n",
       "<table border=\"1\" class=\"dataframe\">\n",
       "  <thead>\n",
       "    <tr style=\"text-align: right;\">\n",
       "      <th></th>\n",
       "      <th>X</th>\n",
       "      <th>y</th>\n",
       "      <th>ones</th>\n",
       "    </tr>\n",
       "  </thead>\n",
       "  <tbody>\n",
       "    <tr>\n",
       "      <th>0</th>\n",
       "      <td>-1.51635079</td>\n",
       "      <td>20</td>\n",
       "      <td>1.00000000</td>\n",
       "    </tr>\n",
       "    <tr>\n",
       "      <th>1</th>\n",
       "      <td>0.23328474</td>\n",
       "      <td>25</td>\n",
       "      <td>1.00000000</td>\n",
       "    </tr>\n",
       "    <tr>\n",
       "      <th>2</th>\n",
       "      <td>-0.64153303</td>\n",
       "      <td>22</td>\n",
       "      <td>1.00000000</td>\n",
       "    </tr>\n",
       "    <tr>\n",
       "      <th>3</th>\n",
       "      <td>1.39970842</td>\n",
       "      <td>33</td>\n",
       "      <td>1.00000000</td>\n",
       "    </tr>\n",
       "    <tr>\n",
       "      <th>4</th>\n",
       "      <td>0.52489066</td>\n",
       "      <td>27</td>\n",
       "      <td>1.00000000</td>\n",
       "    </tr>\n",
       "  </tbody>\n",
       "</table>\n",
       "</div>"
      ],
      "text/plain": [
       "            X   y       ones\n",
       "0 -1.51635079  20 1.00000000\n",
       "1  0.23328474  25 1.00000000\n",
       "2 -0.64153303  22 1.00000000\n",
       "3  1.39970842  33 1.00000000\n",
       "4  0.52489066  27 1.00000000"
      ]
     },
     "execution_count": 14,
     "metadata": {},
     "output_type": "execute_result"
    }
   ],
   "source": [
    "myDataFrame['ones'] = np.ones(len(X))\n",
    "myDataFrame"
   ]
  },
  {
   "cell_type": "code",
   "execution_count": 15,
   "id": "c3505927-daab-4e65-b458-0c7d775e39b0",
   "metadata": {},
   "outputs": [
    {
     "data": {
      "text/html": [
       "<div>\n",
       "<style scoped>\n",
       "    .dataframe tbody tr th:only-of-type {\n",
       "        vertical-align: middle;\n",
       "    }\n",
       "\n",
       "    .dataframe tbody tr th {\n",
       "        vertical-align: top;\n",
       "    }\n",
       "\n",
       "    .dataframe thead th {\n",
       "        text-align: right;\n",
       "    }\n",
       "</style>\n",
       "<table border=\"1\" class=\"dataframe\">\n",
       "  <thead>\n",
       "    <tr style=\"text-align: right;\">\n",
       "      <th></th>\n",
       "      <th>ones</th>\n",
       "      <th>X</th>\n",
       "    </tr>\n",
       "  </thead>\n",
       "  <tbody>\n",
       "    <tr>\n",
       "      <th>0</th>\n",
       "      <td>1.00000000</td>\n",
       "      <td>-1.51635079</td>\n",
       "    </tr>\n",
       "    <tr>\n",
       "      <th>1</th>\n",
       "      <td>1.00000000</td>\n",
       "      <td>0.23328474</td>\n",
       "    </tr>\n",
       "    <tr>\n",
       "      <th>2</th>\n",
       "      <td>1.00000000</td>\n",
       "      <td>-0.64153303</td>\n",
       "    </tr>\n",
       "    <tr>\n",
       "      <th>3</th>\n",
       "      <td>1.00000000</td>\n",
       "      <td>1.39970842</td>\n",
       "    </tr>\n",
       "    <tr>\n",
       "      <th>4</th>\n",
       "      <td>1.00000000</td>\n",
       "      <td>0.52489066</td>\n",
       "    </tr>\n",
       "  </tbody>\n",
       "</table>\n",
       "</div>"
      ],
      "text/plain": [
       "        ones           X\n",
       "0 1.00000000 -1.51635079\n",
       "1 1.00000000  0.23328474\n",
       "2 1.00000000 -0.64153303\n",
       "3 1.00000000  1.39970842\n",
       "4 1.00000000  0.52489066"
      ]
     },
     "execution_count": 15,
     "metadata": {},
     "output_type": "execute_result"
    }
   ],
   "source": [
    "design_matrix = myDataFrame[['ones', 'X']]\n",
    "design_matrix"
   ]
  },
  {
   "cell_type": "code",
   "execution_count": 16,
   "id": "126628a7-a0d4-4b1b-8437-88dd7b1f50b0",
   "metadata": {},
   "outputs": [
    {
     "data": {
      "text/html": [
       "<div>\n",
       "<style scoped>\n",
       "    .dataframe tbody tr th:only-of-type {\n",
       "        vertical-align: middle;\n",
       "    }\n",
       "\n",
       "    .dataframe tbody tr th {\n",
       "        vertical-align: top;\n",
       "    }\n",
       "\n",
       "    .dataframe thead th {\n",
       "        text-align: right;\n",
       "    }\n",
       "</style>\n",
       "<table border=\"1\" class=\"dataframe\">\n",
       "  <thead>\n",
       "    <tr style=\"text-align: right;\">\n",
       "      <th></th>\n",
       "      <th>y</th>\n",
       "    </tr>\n",
       "  </thead>\n",
       "  <tbody>\n",
       "    <tr>\n",
       "      <th>0</th>\n",
       "      <td>20</td>\n",
       "    </tr>\n",
       "    <tr>\n",
       "      <th>1</th>\n",
       "      <td>25</td>\n",
       "    </tr>\n",
       "    <tr>\n",
       "      <th>2</th>\n",
       "      <td>22</td>\n",
       "    </tr>\n",
       "    <tr>\n",
       "      <th>3</th>\n",
       "      <td>33</td>\n",
       "    </tr>\n",
       "    <tr>\n",
       "      <th>4</th>\n",
       "      <td>27</td>\n",
       "    </tr>\n",
       "  </tbody>\n",
       "</table>\n",
       "</div>"
      ],
      "text/plain": [
       "    y\n",
       "0  20\n",
       "1  25\n",
       "2  22\n",
       "3  33\n",
       "4  27"
      ]
     },
     "execution_count": 16,
     "metadata": {},
     "output_type": "execute_result"
    }
   ],
   "source": [
    "y = myDataFrame[['y']]\n",
    "y"
   ]
  },
  {
   "cell_type": "code",
   "execution_count": 17,
   "id": "aff8b16a-6bc6-4460-81e7-fbf6d64e0ba6",
   "metadata": {},
   "outputs": [
    {
     "data": {
      "text/plain": [
       "array([0., 0.])"
      ]
     },
     "execution_count": 17,
     "metadata": {},
     "output_type": "execute_result"
    }
   ],
   "source": [
    "theta = np.zeros(2)\n",
    "theta"
   ]
  },
  {
   "cell_type": "code",
   "execution_count": 18,
   "id": "feb75814-f9fb-4760-ae52-785f42511fc7",
   "metadata": {},
   "outputs": [
    {
     "data": {
      "text/plain": [
       "0.1"
      ]
     },
     "execution_count": 18,
     "metadata": {},
     "output_type": "execute_result"
    }
   ],
   "source": [
    "alpha = 0.1 # learning rate\n",
    "alpha"
   ]
  },
  {
   "cell_type": "code",
   "execution_count": 19,
   "id": "2ed714e2-7245-434a-8f32-8821a119ee05",
   "metadata": {},
   "outputs": [
    {
     "data": {
      "text/plain": [
       "1000"
      ]
     },
     "execution_count": 19,
     "metadata": {},
     "output_type": "execute_result"
    }
   ],
   "source": [
    "iterations = 1000 # number of iterations\n",
    "iterations"
   ]
  },
  {
   "cell_type": "code",
   "execution_count": 20,
   "id": "3ad6c4b4-1e08-4d6c-af91-9cfcf9701274",
   "metadata": {},
   "outputs": [],
   "source": [
    "def predict(X, theta):\n",
    "    y_pred = X.dot(theta)\n",
    "    return y_pred"
   ]
  },
  {
   "cell_type": "code",
   "execution_count": 21,
   "id": "41139a8d-16a7-41b4-936e-e4797cf4b43a",
   "metadata": {},
   "outputs": [],
   "source": [
    "def compute_cost(X, y, theta):\n",
    "    y_pred = predict(X, theta)\n",
    "    # mean of sum of square of error\n",
    "    # 1/len(y) * np.sum(np.square(y_pred - y))\n",
    "    # for gradient function they need mean of sum of error\n",
    "    # in that case we divide it by 2 * len(y) instead of dividing it by len(y)\n",
    "    # derivative of x ** 2 is 2x\n",
    "    cost = (1/(2 * len(y))) * np.sum(np.square(y_pred - y))\n",
    "    return cost"
   ]
  },
  {
   "cell_type": "code",
   "execution_count": 22,
   "id": "d00f161b-0df9-4b4b-9b57-6db04bb9e712",
   "metadata": {},
   "outputs": [],
   "source": [
    "def gradient_descent(X, y, theta, iterations):\n",
    "    cost_history = np.zeros(iterations)\n",
    "    for i in range(iterations):\n",
    "        predictions = predict(X, theta)\n",
    "        # let us calculate the gradient\n",
    "        # gradient = Xᵀ * error / m\n",
    "        gradient = 1/len(y) * alpha * (X.T.dot(predictions - y))\n",
    "        # update the theta\n",
    "        # theta = theta - learning_rate x gradient\n",
    "        theta = theta - gradient\n",
    "        # theta = theta - 1/len(y) * alpha * X.T.dot(predictions - y)\n",
    "        cost_history[i] = compute_cost(X, y, theta)\n",
    "    return theta, cost_history"
   ]
  },
  {
   "cell_type": "code",
   "execution_count": 23,
   "id": "608a102d-0c17-400e-a2f2-fa6b4343ae7a",
   "metadata": {},
   "outputs": [
    {
     "data": {
      "text/plain": [
       "ones   25.40000000\n",
       "X       4.35076035\n",
       "dtype: float64"
      ]
     },
     "execution_count": 23,
     "metadata": {},
     "output_type": "execute_result"
    }
   ],
   "source": [
    "theta_final, cost_history = gradient_descent(design_matrix, y.to_numpy().flatten(), theta, iterations)\n",
    "theta_final"
   ]
  },
  {
   "cell_type": "code",
   "execution_count": 24,
   "id": "56cc3547-f1e8-48cf-8992-c185e3c2553b",
   "metadata": {},
   "outputs": [
    {
     "data": {
      "text/plain": [
       "np.float64(12.687074829931971)"
      ]
     },
     "execution_count": 24,
     "metadata": {},
     "output_type": "execute_result"
    }
   ],
   "source": [
    "intercept = theta_final.iloc[1] / X_std\n",
    "intercept"
   ]
  },
  {
   "cell_type": "code",
   "execution_count": 27,
   "id": "02247012-f832-4d25-aa67-b24a41904422",
   "metadata": {},
   "outputs": [
    {
     "data": {
      "text/plain": [
       "np.float64(-89.03741496598639)"
      ]
     },
     "execution_count": 27,
     "metadata": {},
     "output_type": "execute_result"
    }
   ],
   "source": [
    "coefficient = theta_final.iloc[0] - intercept * X_mean\n",
    "coefficient"
   ]
  },
  {
   "cell_type": "code",
   "execution_count": 26,
   "id": "62b8c9ed-e4f6-4342-a79c-5bd261df3f41",
   "metadata": {},
   "outputs": [
    {
     "data": {
      "text/plain": [
       "array([269.61153401, 218.50987656, 177.11753403, 143.58973658,\n",
       "       116.43222064,  94.43463273,  76.61658653,  62.1839691 ,\n",
       "        50.49354899,  41.02430869,  33.35422405,  27.1414555 ,\n",
       "        22.10911297,  18.03291552,  14.73119558,  12.05680244,\n",
       "         9.89054399,   8.13587464,   6.71459247,   5.56335392,\n",
       "         4.63085069,   3.87552307,   3.2637077 ,   2.76813725,\n",
       "         2.36672519,   2.04158141,   1.77821496,   1.56488813,\n",
       "         1.3920934 ,   1.25212967,   1.13875904,   1.04692884,\n",
       "         0.97254637,   0.91229658,   0.86349424,   0.82396435,\n",
       "         0.79194514,   0.76600957,   0.74500177,   0.72798545,\n",
       "         0.71420222,   0.70303782,   0.69399464,   0.68666968,\n",
       "         0.68073645,   0.67593054,   0.67203775,   0.66888459,\n",
       "         0.66633053,   0.66426174,   0.66258603,   0.6612287 ,\n",
       "         0.66012926,   0.65923871,   0.65851737,   0.65793308,\n",
       "         0.65745981,   0.65707646,   0.65676595,   0.65651443,\n",
       "         0.6563107 ,   0.65614568,   0.65601202,   0.65590375,\n",
       "         0.65581605,   0.65574501,   0.65568747,   0.65564087,\n",
       "         0.65560312,   0.65557254,   0.65554777,   0.65552771,\n",
       "         0.65551146,   0.65549829,   0.65548763,   0.65547899,\n",
       "         0.655472  ,   0.65546633,   0.65546174,   0.65545803,\n",
       "         0.65545501,   0.65545258,   0.6554506 ,   0.655449  ,\n",
       "         0.6554477 ,   0.65544665,   0.6554458 ,   0.65544511,\n",
       "         0.65544456,   0.6554441 ,   0.65544374,   0.65544344,\n",
       "         0.6554432 ,   0.65544301,   0.65544285,   0.65544272,\n",
       "         0.65544262,   0.65544253,   0.65544247,   0.65544241,\n",
       "         0.65544237,   0.65544233,   0.6554423 ,   0.65544228,\n",
       "         0.65544226,   0.65544224,   0.65544223,   0.65544222,\n",
       "         0.65544221,   0.65544221,   0.6554422 ,   0.6554422 ,\n",
       "         0.65544219,   0.65544219,   0.65544219,   0.65544218,\n",
       "         0.65544218,   0.65544218,   0.65544218,   0.65544218,\n",
       "         0.65544218,   0.65544218,   0.65544218,   0.65544218,\n",
       "         0.65544218,   0.65544218,   0.65544218,   0.65544218,\n",
       "         0.65544218,   0.65544218,   0.65544218,   0.65544218,\n",
       "         0.65544218,   0.65544218,   0.65544218,   0.65544218,\n",
       "         0.65544218,   0.65544218,   0.65544218,   0.65544218,\n",
       "         0.65544218,   0.65544218,   0.65544218,   0.65544218,\n",
       "         0.65544218,   0.65544218,   0.65544218,   0.65544218,\n",
       "         0.65544218,   0.65544218,   0.65544218,   0.65544218,\n",
       "         0.65544218,   0.65544218,   0.65544218,   0.65544218,\n",
       "         0.65544218,   0.65544218,   0.65544218,   0.65544218,\n",
       "         0.65544218,   0.65544218,   0.65544218,   0.65544218,\n",
       "         0.65544218,   0.65544218,   0.65544218,   0.65544218,\n",
       "         0.65544218,   0.65544218,   0.65544218,   0.65544218,\n",
       "         0.65544218,   0.65544218,   0.65544218,   0.65544218,\n",
       "         0.65544218,   0.65544218,   0.65544218,   0.65544218,\n",
       "         0.65544218,   0.65544218,   0.65544218,   0.65544218,\n",
       "         0.65544218,   0.65544218,   0.65544218,   0.65544218,\n",
       "         0.65544218,   0.65544218,   0.65544218,   0.65544218,\n",
       "         0.65544218,   0.65544218,   0.65544218,   0.65544218,\n",
       "         0.65544218,   0.65544218,   0.65544218,   0.65544218,\n",
       "         0.65544218,   0.65544218,   0.65544218,   0.65544218,\n",
       "         0.65544218,   0.65544218,   0.65544218,   0.65544218,\n",
       "         0.65544218,   0.65544218,   0.65544218,   0.65544218,\n",
       "         0.65544218,   0.65544218,   0.65544218,   0.65544218,\n",
       "         0.65544218,   0.65544218,   0.65544218,   0.65544218,\n",
       "         0.65544218,   0.65544218,   0.65544218,   0.65544218,\n",
       "         0.65544218,   0.65544218,   0.65544218,   0.65544218,\n",
       "         0.65544218,   0.65544218,   0.65544218,   0.65544218,\n",
       "         0.65544218,   0.65544218,   0.65544218,   0.65544218,\n",
       "         0.65544218,   0.65544218,   0.65544218,   0.65544218,\n",
       "         0.65544218,   0.65544218,   0.65544218,   0.65544218,\n",
       "         0.65544218,   0.65544218,   0.65544218,   0.65544218,\n",
       "         0.65544218,   0.65544218,   0.65544218,   0.65544218,\n",
       "         0.65544218,   0.65544218,   0.65544218,   0.65544218,\n",
       "         0.65544218,   0.65544218,   0.65544218,   0.65544218,\n",
       "         0.65544218,   0.65544218,   0.65544218,   0.65544218,\n",
       "         0.65544218,   0.65544218,   0.65544218,   0.65544218,\n",
       "         0.65544218,   0.65544218,   0.65544218,   0.65544218,\n",
       "         0.65544218,   0.65544218,   0.65544218,   0.65544218,\n",
       "         0.65544218,   0.65544218,   0.65544218,   0.65544218,\n",
       "         0.65544218,   0.65544218,   0.65544218,   0.65544218,\n",
       "         0.65544218,   0.65544218,   0.65544218,   0.65544218,\n",
       "         0.65544218,   0.65544218,   0.65544218,   0.65544218,\n",
       "         0.65544218,   0.65544218,   0.65544218,   0.65544218,\n",
       "         0.65544218,   0.65544218,   0.65544218,   0.65544218,\n",
       "         0.65544218,   0.65544218,   0.65544218,   0.65544218,\n",
       "         0.65544218,   0.65544218,   0.65544218,   0.65544218,\n",
       "         0.65544218,   0.65544218,   0.65544218,   0.65544218,\n",
       "         0.65544218,   0.65544218,   0.65544218,   0.65544218,\n",
       "         0.65544218,   0.65544218,   0.65544218,   0.65544218,\n",
       "         0.65544218,   0.65544218,   0.65544218,   0.65544218,\n",
       "         0.65544218,   0.65544218,   0.65544218,   0.65544218,\n",
       "         0.65544218,   0.65544218,   0.65544218,   0.65544218,\n",
       "         0.65544218,   0.65544218,   0.65544218,   0.65544218,\n",
       "         0.65544218,   0.65544218,   0.65544218,   0.65544218,\n",
       "         0.65544218,   0.65544218,   0.65544218,   0.65544218,\n",
       "         0.65544218,   0.65544218,   0.65544218,   0.65544218,\n",
       "         0.65544218,   0.65544218,   0.65544218,   0.65544218,\n",
       "         0.65544218,   0.65544218,   0.65544218,   0.65544218,\n",
       "         0.65544218,   0.65544218,   0.65544218,   0.65544218,\n",
       "         0.65544218,   0.65544218,   0.65544218,   0.65544218,\n",
       "         0.65544218,   0.65544218,   0.65544218,   0.65544218,\n",
       "         0.65544218,   0.65544218,   0.65544218,   0.65544218,\n",
       "         0.65544218,   0.65544218,   0.65544218,   0.65544218,\n",
       "         0.65544218,   0.65544218,   0.65544218,   0.65544218,\n",
       "         0.65544218,   0.65544218,   0.65544218,   0.65544218,\n",
       "         0.65544218,   0.65544218,   0.65544218,   0.65544218,\n",
       "         0.65544218,   0.65544218,   0.65544218,   0.65544218,\n",
       "         0.65544218,   0.65544218,   0.65544218,   0.65544218,\n",
       "         0.65544218,   0.65544218,   0.65544218,   0.65544218,\n",
       "         0.65544218,   0.65544218,   0.65544218,   0.65544218,\n",
       "         0.65544218,   0.65544218,   0.65544218,   0.65544218,\n",
       "         0.65544218,   0.65544218,   0.65544218,   0.65544218,\n",
       "         0.65544218,   0.65544218,   0.65544218,   0.65544218,\n",
       "         0.65544218,   0.65544218,   0.65544218,   0.65544218,\n",
       "         0.65544218,   0.65544218,   0.65544218,   0.65544218,\n",
       "         0.65544218,   0.65544218,   0.65544218,   0.65544218,\n",
       "         0.65544218,   0.65544218,   0.65544218,   0.65544218,\n",
       "         0.65544218,   0.65544218,   0.65544218,   0.65544218,\n",
       "         0.65544218,   0.65544218,   0.65544218,   0.65544218,\n",
       "         0.65544218,   0.65544218,   0.65544218,   0.65544218,\n",
       "         0.65544218,   0.65544218,   0.65544218,   0.65544218,\n",
       "         0.65544218,   0.65544218,   0.65544218,   0.65544218,\n",
       "         0.65544218,   0.65544218,   0.65544218,   0.65544218,\n",
       "         0.65544218,   0.65544218,   0.65544218,   0.65544218,\n",
       "         0.65544218,   0.65544218,   0.65544218,   0.65544218,\n",
       "         0.65544218,   0.65544218,   0.65544218,   0.65544218,\n",
       "         0.65544218,   0.65544218,   0.65544218,   0.65544218,\n",
       "         0.65544218,   0.65544218,   0.65544218,   0.65544218,\n",
       "         0.65544218,   0.65544218,   0.65544218,   0.65544218,\n",
       "         0.65544218,   0.65544218,   0.65544218,   0.65544218,\n",
       "         0.65544218,   0.65544218,   0.65544218,   0.65544218,\n",
       "         0.65544218,   0.65544218,   0.65544218,   0.65544218,\n",
       "         0.65544218,   0.65544218,   0.65544218,   0.65544218,\n",
       "         0.65544218,   0.65544218,   0.65544218,   0.65544218,\n",
       "         0.65544218,   0.65544218,   0.65544218,   0.65544218,\n",
       "         0.65544218,   0.65544218,   0.65544218,   0.65544218,\n",
       "         0.65544218,   0.65544218,   0.65544218,   0.65544218,\n",
       "         0.65544218,   0.65544218,   0.65544218,   0.65544218,\n",
       "         0.65544218,   0.65544218,   0.65544218,   0.65544218,\n",
       "         0.65544218,   0.65544218,   0.65544218,   0.65544218,\n",
       "         0.65544218,   0.65544218,   0.65544218,   0.65544218,\n",
       "         0.65544218,   0.65544218,   0.65544218,   0.65544218,\n",
       "         0.65544218,   0.65544218,   0.65544218,   0.65544218,\n",
       "         0.65544218,   0.65544218,   0.65544218,   0.65544218,\n",
       "         0.65544218,   0.65544218,   0.65544218,   0.65544218,\n",
       "         0.65544218,   0.65544218,   0.65544218,   0.65544218,\n",
       "         0.65544218,   0.65544218,   0.65544218,   0.65544218,\n",
       "         0.65544218,   0.65544218,   0.65544218,   0.65544218,\n",
       "         0.65544218,   0.65544218,   0.65544218,   0.65544218,\n",
       "         0.65544218,   0.65544218,   0.65544218,   0.65544218,\n",
       "         0.65544218,   0.65544218,   0.65544218,   0.65544218,\n",
       "         0.65544218,   0.65544218,   0.65544218,   0.65544218,\n",
       "         0.65544218,   0.65544218,   0.65544218,   0.65544218,\n",
       "         0.65544218,   0.65544218,   0.65544218,   0.65544218,\n",
       "         0.65544218,   0.65544218,   0.65544218,   0.65544218,\n",
       "         0.65544218,   0.65544218,   0.65544218,   0.65544218,\n",
       "         0.65544218,   0.65544218,   0.65544218,   0.65544218,\n",
       "         0.65544218,   0.65544218,   0.65544218,   0.65544218,\n",
       "         0.65544218,   0.65544218,   0.65544218,   0.65544218,\n",
       "         0.65544218,   0.65544218,   0.65544218,   0.65544218,\n",
       "         0.65544218,   0.65544218,   0.65544218,   0.65544218,\n",
       "         0.65544218,   0.65544218,   0.65544218,   0.65544218,\n",
       "         0.65544218,   0.65544218,   0.65544218,   0.65544218,\n",
       "         0.65544218,   0.65544218,   0.65544218,   0.65544218,\n",
       "         0.65544218,   0.65544218,   0.65544218,   0.65544218,\n",
       "         0.65544218,   0.65544218,   0.65544218,   0.65544218,\n",
       "         0.65544218,   0.65544218,   0.65544218,   0.65544218,\n",
       "         0.65544218,   0.65544218,   0.65544218,   0.65544218,\n",
       "         0.65544218,   0.65544218,   0.65544218,   0.65544218,\n",
       "         0.65544218,   0.65544218,   0.65544218,   0.65544218,\n",
       "         0.65544218,   0.65544218,   0.65544218,   0.65544218,\n",
       "         0.65544218,   0.65544218,   0.65544218,   0.65544218,\n",
       "         0.65544218,   0.65544218,   0.65544218,   0.65544218,\n",
       "         0.65544218,   0.65544218,   0.65544218,   0.65544218,\n",
       "         0.65544218,   0.65544218,   0.65544218,   0.65544218,\n",
       "         0.65544218,   0.65544218,   0.65544218,   0.65544218,\n",
       "         0.65544218,   0.65544218,   0.65544218,   0.65544218,\n",
       "         0.65544218,   0.65544218,   0.65544218,   0.65544218,\n",
       "         0.65544218,   0.65544218,   0.65544218,   0.65544218,\n",
       "         0.65544218,   0.65544218,   0.65544218,   0.65544218,\n",
       "         0.65544218,   0.65544218,   0.65544218,   0.65544218,\n",
       "         0.65544218,   0.65544218,   0.65544218,   0.65544218,\n",
       "         0.65544218,   0.65544218,   0.65544218,   0.65544218,\n",
       "         0.65544218,   0.65544218,   0.65544218,   0.65544218,\n",
       "         0.65544218,   0.65544218,   0.65544218,   0.65544218,\n",
       "         0.65544218,   0.65544218,   0.65544218,   0.65544218,\n",
       "         0.65544218,   0.65544218,   0.65544218,   0.65544218,\n",
       "         0.65544218,   0.65544218,   0.65544218,   0.65544218,\n",
       "         0.65544218,   0.65544218,   0.65544218,   0.65544218,\n",
       "         0.65544218,   0.65544218,   0.65544218,   0.65544218,\n",
       "         0.65544218,   0.65544218,   0.65544218,   0.65544218,\n",
       "         0.65544218,   0.65544218,   0.65544218,   0.65544218,\n",
       "         0.65544218,   0.65544218,   0.65544218,   0.65544218,\n",
       "         0.65544218,   0.65544218,   0.65544218,   0.65544218,\n",
       "         0.65544218,   0.65544218,   0.65544218,   0.65544218,\n",
       "         0.65544218,   0.65544218,   0.65544218,   0.65544218,\n",
       "         0.65544218,   0.65544218,   0.65544218,   0.65544218,\n",
       "         0.65544218,   0.65544218,   0.65544218,   0.65544218,\n",
       "         0.65544218,   0.65544218,   0.65544218,   0.65544218,\n",
       "         0.65544218,   0.65544218,   0.65544218,   0.65544218,\n",
       "         0.65544218,   0.65544218,   0.65544218,   0.65544218,\n",
       "         0.65544218,   0.65544218,   0.65544218,   0.65544218,\n",
       "         0.65544218,   0.65544218,   0.65544218,   0.65544218,\n",
       "         0.65544218,   0.65544218,   0.65544218,   0.65544218,\n",
       "         0.65544218,   0.65544218,   0.65544218,   0.65544218,\n",
       "         0.65544218,   0.65544218,   0.65544218,   0.65544218,\n",
       "         0.65544218,   0.65544218,   0.65544218,   0.65544218,\n",
       "         0.65544218,   0.65544218,   0.65544218,   0.65544218,\n",
       "         0.65544218,   0.65544218,   0.65544218,   0.65544218,\n",
       "         0.65544218,   0.65544218,   0.65544218,   0.65544218,\n",
       "         0.65544218,   0.65544218,   0.65544218,   0.65544218,\n",
       "         0.65544218,   0.65544218,   0.65544218,   0.65544218,\n",
       "         0.65544218,   0.65544218,   0.65544218,   0.65544218,\n",
       "         0.65544218,   0.65544218,   0.65544218,   0.65544218,\n",
       "         0.65544218,   0.65544218,   0.65544218,   0.65544218,\n",
       "         0.65544218,   0.65544218,   0.65544218,   0.65544218,\n",
       "         0.65544218,   0.65544218,   0.65544218,   0.65544218,\n",
       "         0.65544218,   0.65544218,   0.65544218,   0.65544218,\n",
       "         0.65544218,   0.65544218,   0.65544218,   0.65544218,\n",
       "         0.65544218,   0.65544218,   0.65544218,   0.65544218,\n",
       "         0.65544218,   0.65544218,   0.65544218,   0.65544218,\n",
       "         0.65544218,   0.65544218,   0.65544218,   0.65544218,\n",
       "         0.65544218,   0.65544218,   0.65544218,   0.65544218,\n",
       "         0.65544218,   0.65544218,   0.65544218,   0.65544218,\n",
       "         0.65544218,   0.65544218,   0.65544218,   0.65544218,\n",
       "         0.65544218,   0.65544218,   0.65544218,   0.65544218,\n",
       "         0.65544218,   0.65544218,   0.65544218,   0.65544218,\n",
       "         0.65544218,   0.65544218,   0.65544218,   0.65544218,\n",
       "         0.65544218,   0.65544218,   0.65544218,   0.65544218,\n",
       "         0.65544218,   0.65544218,   0.65544218,   0.65544218,\n",
       "         0.65544218,   0.65544218,   0.65544218,   0.65544218,\n",
       "         0.65544218,   0.65544218,   0.65544218,   0.65544218,\n",
       "         0.65544218,   0.65544218,   0.65544218,   0.65544218,\n",
       "         0.65544218,   0.65544218,   0.65544218,   0.65544218,\n",
       "         0.65544218,   0.65544218,   0.65544218,   0.65544218,\n",
       "         0.65544218,   0.65544218,   0.65544218,   0.65544218,\n",
       "         0.65544218,   0.65544218,   0.65544218,   0.65544218,\n",
       "         0.65544218,   0.65544218,   0.65544218,   0.65544218,\n",
       "         0.65544218,   0.65544218,   0.65544218,   0.65544218,\n",
       "         0.65544218,   0.65544218,   0.65544218,   0.65544218,\n",
       "         0.65544218,   0.65544218,   0.65544218,   0.65544218,\n",
       "         0.65544218,   0.65544218,   0.65544218,   0.65544218,\n",
       "         0.65544218,   0.65544218,   0.65544218,   0.65544218,\n",
       "         0.65544218,   0.65544218,   0.65544218,   0.65544218,\n",
       "         0.65544218,   0.65544218,   0.65544218,   0.65544218,\n",
       "         0.65544218,   0.65544218,   0.65544218,   0.65544218,\n",
       "         0.65544218,   0.65544218,   0.65544218,   0.65544218,\n",
       "         0.65544218,   0.65544218,   0.65544218,   0.65544218,\n",
       "         0.65544218,   0.65544218,   0.65544218,   0.65544218,\n",
       "         0.65544218,   0.65544218,   0.65544218,   0.65544218,\n",
       "         0.65544218,   0.65544218,   0.65544218,   0.65544218,\n",
       "         0.65544218,   0.65544218,   0.65544218,   0.65544218,\n",
       "         0.65544218,   0.65544218,   0.65544218,   0.65544218,\n",
       "         0.65544218,   0.65544218,   0.65544218,   0.65544218,\n",
       "         0.65544218,   0.65544218,   0.65544218,   0.65544218,\n",
       "         0.65544218,   0.65544218,   0.65544218,   0.65544218,\n",
       "         0.65544218,   0.65544218,   0.65544218,   0.65544218,\n",
       "         0.65544218,   0.65544218,   0.65544218,   0.65544218,\n",
       "         0.65544218,   0.65544218,   0.65544218,   0.65544218])"
      ]
     },
     "execution_count": 26,
     "metadata": {},
     "output_type": "execute_result"
    }
   ],
   "source": [
    "cost_history"
   ]
  },
  {
   "cell_type": "code",
   "execution_count": null,
   "id": "6fdf9f2d-4a44-4b55-bcd4-1a67a2c49c30",
   "metadata": {},
   "outputs": [],
   "source": []
  }
 ],
 "metadata": {
  "kernelspec": {
   "display_name": "Python 3 (ipykernel)",
   "language": "python",
   "name": "python3"
  },
  "language_info": {
   "codemirror_mode": {
    "name": "ipython",
    "version": 3
   },
   "file_extension": ".py",
   "mimetype": "text/x-python",
   "name": "python",
   "nbconvert_exporter": "python",
   "pygments_lexer": "ipython3",
   "version": "3.12.4"
  }
 },
 "nbformat": 4,
 "nbformat_minor": 5
}
