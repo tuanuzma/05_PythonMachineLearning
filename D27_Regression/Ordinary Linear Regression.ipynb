{
 "cells": [
  {
   "cell_type": "code",
   "execution_count": 3,
   "id": "292b5c5b-ca31-4a06-ae36-08b7a1a05e11",
   "metadata": {},
   "outputs": [],
   "source": [
    "import numpy as np\n",
    "import pandas as pd\n",
    "\n",
    "from sklearn.model_selection import train_test_split\n",
    "from sklearn.linear_model import LinearRegression\n",
    "\n",
    "from matplotlib import pyplot as plt\n",
    "from IPython.display import display, HTML\n",
    "\n",
    "from sklearn.metrics import r2_score"
   ]
  },
  {
   "cell_type": "code",
   "execution_count": 4,
   "id": "94add67f-aee1-4a66-bb73-6dc8c149c0f0",
   "metadata": {},
   "outputs": [
    {
     "data": {
      "text/plain": [
       "array([8.5, 9.1, 8.8, 9.5, 9.2])"
      ]
     },
     "execution_count": 4,
     "metadata": {},
     "output_type": "execute_result"
    }
   ],
   "source": [
    "X = np.array([8.5, 9.1, 8.8, 9.5, 9.2])\n",
    "X"
   ]
  },
  {
   "cell_type": "code",
   "execution_count": 5,
   "id": "84bfe6f4-77f1-41c0-8f09-61ba55370faf",
   "metadata": {},
   "outputs": [
    {
     "data": {
      "text/plain": [
       "array([20, 25, 22, 33, 27])"
      ]
     },
     "execution_count": 5,
     "metadata": {},
     "output_type": "execute_result"
    }
   ],
   "source": [
    "y = np.array([20, 25, 22, 33, 27])\n",
    "y"
   ]
  },
  {
   "cell_type": "markdown",
   "id": "00d457e6-20b7-40e5-a942-0f94cd470683",
   "metadata": {},
   "source": [
    "y = Xb<br>\n",
    "X is a design matrix<br>\n",
    "b is a vector that holds the slope and intercept<br>"
   ]
  },
  {
   "cell_type": "code",
   "execution_count": 6,
   "id": "a284ad30-5222-4793-8ae6-2ab7c0712ed7",
   "metadata": {},
   "outputs": [
    {
     "data": {
      "text/html": [
       "<div>\n",
       "<style scoped>\n",
       "    .dataframe tbody tr th:only-of-type {\n",
       "        vertical-align: middle;\n",
       "    }\n",
       "\n",
       "    .dataframe tbody tr th {\n",
       "        vertical-align: top;\n",
       "    }\n",
       "\n",
       "    .dataframe thead th {\n",
       "        text-align: right;\n",
       "    }\n",
       "</style>\n",
       "<table border=\"1\" class=\"dataframe\">\n",
       "  <thead>\n",
       "    <tr style=\"text-align: right;\">\n",
       "      <th></th>\n",
       "      <th>X</th>\n",
       "      <th>y</th>\n",
       "    </tr>\n",
       "  </thead>\n",
       "  <tbody>\n",
       "    <tr>\n",
       "      <th>0</th>\n",
       "      <td>8.5000</td>\n",
       "      <td>20</td>\n",
       "    </tr>\n",
       "    <tr>\n",
       "      <th>1</th>\n",
       "      <td>9.1000</td>\n",
       "      <td>25</td>\n",
       "    </tr>\n",
       "    <tr>\n",
       "      <th>2</th>\n",
       "      <td>8.8000</td>\n",
       "      <td>22</td>\n",
       "    </tr>\n",
       "    <tr>\n",
       "      <th>3</th>\n",
       "      <td>9.5000</td>\n",
       "      <td>33</td>\n",
       "    </tr>\n",
       "    <tr>\n",
       "      <th>4</th>\n",
       "      <td>9.2000</td>\n",
       "      <td>27</td>\n",
       "    </tr>\n",
       "  </tbody>\n",
       "</table>\n",
       "</div>"
      ],
      "text/plain": [
       "       X   y\n",
       "0 8.5000  20\n",
       "1 9.1000  25\n",
       "2 8.8000  22\n",
       "3 9.5000  33\n",
       "4 9.2000  27"
      ]
     },
     "execution_count": 6,
     "metadata": {},
     "output_type": "execute_result"
    }
   ],
   "source": [
    "pd.set_option('display.float_format', lambda x: f'{x:.4f}')\n",
    "myDataFrame = pd.DataFrame(X, columns=['X'])\n",
    "myDataFrame['y'] = y\n",
    "myDataFrame"
   ]
  },
  {
   "cell_type": "code",
   "execution_count": 7,
   "id": "2527f425-2be8-464e-86a9-90ecf9c5793f",
   "metadata": {},
   "outputs": [
    {
     "data": {
      "text/html": [
       "<div>\n",
       "<style scoped>\n",
       "    .dataframe tbody tr th:only-of-type {\n",
       "        vertical-align: middle;\n",
       "    }\n",
       "\n",
       "    .dataframe tbody tr th {\n",
       "        vertical-align: top;\n",
       "    }\n",
       "\n",
       "    .dataframe thead th {\n",
       "        text-align: right;\n",
       "    }\n",
       "</style>\n",
       "<table border=\"1\" class=\"dataframe\">\n",
       "  <thead>\n",
       "    <tr style=\"text-align: right;\">\n",
       "      <th></th>\n",
       "      <th>X</th>\n",
       "      <th>y</th>\n",
       "      <th>ones</th>\n",
       "    </tr>\n",
       "  </thead>\n",
       "  <tbody>\n",
       "    <tr>\n",
       "      <th>0</th>\n",
       "      <td>8.5000</td>\n",
       "      <td>20</td>\n",
       "      <td>1.0000</td>\n",
       "    </tr>\n",
       "    <tr>\n",
       "      <th>1</th>\n",
       "      <td>9.1000</td>\n",
       "      <td>25</td>\n",
       "      <td>1.0000</td>\n",
       "    </tr>\n",
       "    <tr>\n",
       "      <th>2</th>\n",
       "      <td>8.8000</td>\n",
       "      <td>22</td>\n",
       "      <td>1.0000</td>\n",
       "    </tr>\n",
       "    <tr>\n",
       "      <th>3</th>\n",
       "      <td>9.5000</td>\n",
       "      <td>33</td>\n",
       "      <td>1.0000</td>\n",
       "    </tr>\n",
       "    <tr>\n",
       "      <th>4</th>\n",
       "      <td>9.2000</td>\n",
       "      <td>27</td>\n",
       "      <td>1.0000</td>\n",
       "    </tr>\n",
       "  </tbody>\n",
       "</table>\n",
       "</div>"
      ],
      "text/plain": [
       "       X   y   ones\n",
       "0 8.5000  20 1.0000\n",
       "1 9.1000  25 1.0000\n",
       "2 8.8000  22 1.0000\n",
       "3 9.5000  33 1.0000\n",
       "4 9.2000  27 1.0000"
      ]
     },
     "execution_count": 7,
     "metadata": {},
     "output_type": "execute_result"
    }
   ],
   "source": [
    "myDataFrame['ones'] = np.ones(len(X))\n",
    "myDataFrame"
   ]
  },
  {
   "cell_type": "code",
   "execution_count": 10,
   "id": "e89e0b11-c666-493a-b57c-1140d4957997",
   "metadata": {},
   "outputs": [
    {
     "data": {
      "text/html": [
       "<div>\n",
       "<style scoped>\n",
       "    .dataframe tbody tr th:only-of-type {\n",
       "        vertical-align: middle;\n",
       "    }\n",
       "\n",
       "    .dataframe tbody tr th {\n",
       "        vertical-align: top;\n",
       "    }\n",
       "\n",
       "    .dataframe thead th {\n",
       "        text-align: right;\n",
       "    }\n",
       "</style>\n",
       "<table border=\"1\" class=\"dataframe\">\n",
       "  <thead>\n",
       "    <tr style=\"text-align: right;\">\n",
       "      <th></th>\n",
       "      <th>ones</th>\n",
       "      <th>X</th>\n",
       "    </tr>\n",
       "  </thead>\n",
       "  <tbody>\n",
       "    <tr>\n",
       "      <th>0</th>\n",
       "      <td>1.0000</td>\n",
       "      <td>8.5000</td>\n",
       "    </tr>\n",
       "    <tr>\n",
       "      <th>1</th>\n",
       "      <td>1.0000</td>\n",
       "      <td>9.1000</td>\n",
       "    </tr>\n",
       "    <tr>\n",
       "      <th>2</th>\n",
       "      <td>1.0000</td>\n",
       "      <td>8.8000</td>\n",
       "    </tr>\n",
       "    <tr>\n",
       "      <th>3</th>\n",
       "      <td>1.0000</td>\n",
       "      <td>9.5000</td>\n",
       "    </tr>\n",
       "    <tr>\n",
       "      <th>4</th>\n",
       "      <td>1.0000</td>\n",
       "      <td>9.2000</td>\n",
       "    </tr>\n",
       "  </tbody>\n",
       "</table>\n",
       "</div>"
      ],
      "text/plain": [
       "    ones      X\n",
       "0 1.0000 8.5000\n",
       "1 1.0000 9.1000\n",
       "2 1.0000 8.8000\n",
       "3 1.0000 9.5000\n",
       "4 1.0000 9.2000"
      ]
     },
     "execution_count": 10,
     "metadata": {},
     "output_type": "execute_result"
    }
   ],
   "source": [
    "design_matrix = myDataFrame[['ones', 'X']]\n",
    "design_matrix"
   ]
  },
  {
   "cell_type": "code",
   "execution_count": 11,
   "id": "00d35a0d-8462-4003-924d-db0f53cba4eb",
   "metadata": {},
   "outputs": [
    {
     "data": {
      "text/html": [
       "<div>\n",
       "<style scoped>\n",
       "    .dataframe tbody tr th:only-of-type {\n",
       "        vertical-align: middle;\n",
       "    }\n",
       "\n",
       "    .dataframe tbody tr th {\n",
       "        vertical-align: top;\n",
       "    }\n",
       "\n",
       "    .dataframe thead th {\n",
       "        text-align: right;\n",
       "    }\n",
       "</style>\n",
       "<table border=\"1\" class=\"dataframe\">\n",
       "  <thead>\n",
       "    <tr style=\"text-align: right;\">\n",
       "      <th></th>\n",
       "      <th>0</th>\n",
       "      <th>1</th>\n",
       "      <th>2</th>\n",
       "      <th>3</th>\n",
       "      <th>4</th>\n",
       "    </tr>\n",
       "  </thead>\n",
       "  <tbody>\n",
       "    <tr>\n",
       "      <th>ones</th>\n",
       "      <td>1.0000</td>\n",
       "      <td>1.0000</td>\n",
       "      <td>1.0000</td>\n",
       "      <td>1.0000</td>\n",
       "      <td>1.0000</td>\n",
       "    </tr>\n",
       "    <tr>\n",
       "      <th>X</th>\n",
       "      <td>8.5000</td>\n",
       "      <td>9.1000</td>\n",
       "      <td>8.8000</td>\n",
       "      <td>9.5000</td>\n",
       "      <td>9.2000</td>\n",
       "    </tr>\n",
       "  </tbody>\n",
       "</table>\n",
       "</div>"
      ],
      "text/plain": [
       "          0      1      2      3      4\n",
       "ones 1.0000 1.0000 1.0000 1.0000 1.0000\n",
       "X    8.5000 9.1000 8.8000 9.5000 9.2000"
      ]
     },
     "execution_count": 11,
     "metadata": {},
     "output_type": "execute_result"
    }
   ],
   "source": [
    "design_matrix_transpose = design_matrix.T\n",
    "design_matrix_transpose"
   ]
  },
  {
   "cell_type": "code",
   "execution_count": 12,
   "id": "6a9d6eb5-2a71-4ed0-8a5b-9cff19fb7868",
   "metadata": {},
   "outputs": [
    {
     "data": {
      "text/html": [
       "<div>\n",
       "<style scoped>\n",
       "    .dataframe tbody tr th:only-of-type {\n",
       "        vertical-align: middle;\n",
       "    }\n",
       "\n",
       "    .dataframe tbody tr th {\n",
       "        vertical-align: top;\n",
       "    }\n",
       "\n",
       "    .dataframe thead th {\n",
       "        text-align: right;\n",
       "    }\n",
       "</style>\n",
       "<table border=\"1\" class=\"dataframe\">\n",
       "  <thead>\n",
       "    <tr style=\"text-align: right;\">\n",
       "      <th></th>\n",
       "      <th>ones</th>\n",
       "      <th>X</th>\n",
       "    </tr>\n",
       "  </thead>\n",
       "  <tbody>\n",
       "    <tr>\n",
       "      <th>ones</th>\n",
       "      <td>5.0000</td>\n",
       "      <td>45.1000</td>\n",
       "    </tr>\n",
       "    <tr>\n",
       "      <th>X</th>\n",
       "      <td>45.1000</td>\n",
       "      <td>407.3900</td>\n",
       "    </tr>\n",
       "  </tbody>\n",
       "</table>\n",
       "</div>"
      ],
      "text/plain": [
       "        ones        X\n",
       "ones  5.0000  45.1000\n",
       "X    45.1000 407.3900"
      ]
     },
     "execution_count": 12,
     "metadata": {},
     "output_type": "execute_result"
    }
   ],
   "source": [
    "design_matrix_transpose_design_matrix = design_matrix_transpose.dot(design_matrix)\n",
    "design_matrix_transpose_design_matrix"
   ]
  },
  {
   "cell_type": "code",
   "execution_count": 13,
   "id": "b5b7e2f7-3175-4859-b151-95cbe56df6b5",
   "metadata": {},
   "outputs": [
    {
     "data": {
      "text/plain": [
       "array([[138.56802721, -15.34013605],\n",
       "       [-15.34013605,   1.70068027]])"
      ]
     },
     "execution_count": 13,
     "metadata": {},
     "output_type": "execute_result"
    }
   ],
   "source": [
    "design_matrix_transpose_design_matrix_inv = np.linalg.inv(design_matrix_transpose_design_matrix)\n",
    "design_matrix_transpose_design_matrix_inv"
   ]
  },
  {
   "cell_type": "code",
   "execution_count": 14,
   "id": "f16c22d7-9442-4228-943b-69b59561df5b",
   "metadata": {},
   "outputs": [
    {
     "data": {
      "text/plain": [
       "ones    127.0000\n",
       "X      1153.0000\n",
       "dtype: float64"
      ]
     },
     "execution_count": 14,
     "metadata": {},
     "output_type": "execute_result"
    }
   ],
   "source": [
    "design_matrix_transpose_y = design_matrix_transpose.dot(y)\n",
    "design_matrix_transpose_y"
   ]
  },
  {
   "cell_type": "code",
   "execution_count": 15,
   "id": "161b3d44-eb76-46ff-a02d-50c01a7cb232",
   "metadata": {},
   "outputs": [
    {
     "data": {
      "text/plain": [
       "array([-89.03741497,  12.68707483])"
      ]
     },
     "execution_count": 15,
     "metadata": {},
     "output_type": "execute_result"
    }
   ],
   "source": [
    "design_matrix_transpose_design_matrix_inv.dot(design_matrix_transpose_y)"
   ]
  },
  {
   "cell_type": "code",
   "execution_count": null,
   "id": "79328885-8ffe-49f4-99e1-6d962f447f7c",
   "metadata": {},
   "outputs": [],
   "source": []
  }
 ],
 "metadata": {
  "kernelspec": {
   "display_name": "Python 3 (ipykernel)",
   "language": "python",
   "name": "python3"
  },
  "language_info": {
   "codemirror_mode": {
    "name": "ipython",
    "version": 3
   },
   "file_extension": ".py",
   "mimetype": "text/x-python",
   "name": "python",
   "nbconvert_exporter": "python",
   "pygments_lexer": "ipython3",
   "version": "3.12.4"
  }
 },
 "nbformat": 4,
 "nbformat_minor": 5
}
