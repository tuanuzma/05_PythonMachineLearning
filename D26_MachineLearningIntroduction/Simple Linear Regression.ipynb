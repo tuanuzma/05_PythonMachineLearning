{
 "cells": [
  {
   "cell_type": "markdown",
   "id": "69035818-0c59-4845-bb49-72aa1f35224b",
   "metadata": {},
   "source": [
    "# Simple Linear Regression"
   ]
  },
  {
   "cell_type": "code",
   "execution_count": 1,
   "id": "f3099e62-694b-4eb3-bf33-3cce0a586f56",
   "metadata": {},
   "outputs": [],
   "source": [
    "# pip install scikit-learn\n",
    "import numpy as np\n",
    "import pandas as pd\n",
    "\n",
    "from sklearn.model_selection import train_test_split\n",
    "from sklearn.linear_model import LinearRegression\n",
    "\n",
    "from matplotlib import pyplot as plt\n",
    "from IPython.display import display, HTML\n",
    "\n",
    "from sklearn.metrics import r2_score"
   ]
  },
  {
   "cell_type": "markdown",
   "id": "0bb54a90-bab6-42e0-aa87-4ab9eeb1eaf0",
   "metadata": {},
   "source": [
    "### Data Acquisition\n",
    "<hr/>"
   ]
  },
  {
   "cell_type": "markdown",
   "id": "cb13f4f6-5be5-4b30-8aaa-349b2efefe8d",
   "metadata": {},
   "source": [
    "Here we want to predict the mouse weight using mouse height\n",
    "<ol>\n",
    "    <li><b>mouse height in cm (denoted as X)</b></li>\n",
    "    <li><b>mouse weight in g (denoted as y)</li>\n",
    "</ol>"
   ]
  },
  {
   "cell_type": "code",
   "execution_count": 2,
   "id": "d3f99b2c-c716-4a1c-9913-4d1e67523170",
   "metadata": {},
   "outputs": [
    {
     "data": {
      "text/plain": [
       "array([8.5, 9.1, 8.8, 9.5, 9.2])"
      ]
     },
     "execution_count": 2,
     "metadata": {},
     "output_type": "execute_result"
    }
   ],
   "source": [
    "X = np.array([8.5, 9.1, 8.8, 9.5, 9.2])\n",
    "X"
   ]
  },
  {
   "cell_type": "code",
   "execution_count": 3,
   "id": "e507e87a-bda8-48d2-b954-60b896530c30",
   "metadata": {},
   "outputs": [
    {
     "data": {
      "text/plain": [
       "array([20, 25, 22, 33, 27])"
      ]
     },
     "execution_count": 3,
     "metadata": {},
     "output_type": "execute_result"
    }
   ],
   "source": [
    "y = np.array([20, 25, 22, 33, 27])\n",
    "y"
   ]
  },
  {
   "cell_type": "code",
   "execution_count": 4,
   "id": "adbe7e43-d54b-49ab-ab8f-2d03e2162fa0",
   "metadata": {},
   "outputs": [
    {
     "data": {
      "text/plain": [
       "Text(0, 0.5, 'y values')"
      ]
     },
     "execution_count": 4,
     "metadata": {},
     "output_type": "execute_result"
    },
    {
     "data": {
      "image/png": "[encoded data removed]",
      "text/plain": [
       "<Figure size 400x300 with 1 Axes>"
      ]
     },
     "metadata": {},
     "output_type": "display_data"
    }
   ],
   "source": [
    "# Let us plot our data in a scatteer plot to see whether there is any \n",
    "# linear relationship between the dependent and independent variables\n",
    "plt.figure(figsize=(4,3))\n",
    "plt.scatter(X, y, color='red')\n",
    "plt.xlabel('X values')\n",
    "plt.ylabel('y values')"
   ]
  },
  {
   "cell_type": "code",
   "execution_count": 5,
   "id": "2009c6a9-d6fe-4b89-b94c-4139ccb265dc",
   "metadata": {},
   "outputs": [
    {
     "data": {
      "text/html": [
       "<div>\n",
       "<style scoped>\n",
       "    .dataframe tbody tr th:only-of-type {\n",
       "        vertical-align: middle;\n",
       "    }\n",
       "\n",
       "    .dataframe tbody tr th {\n",
       "        vertical-align: top;\n",
       "    }\n",
       "\n",
       "    .dataframe thead th {\n",
       "        text-align: right;\n",
       "    }\n",
       "</style>\n",
       "<table border=\"1\" class=\"dataframe\">\n",
       "  <thead>\n",
       "    <tr style=\"text-align: right;\">\n",
       "      <th></th>\n",
       "      <th>X</th>\n",
       "      <th>y</th>\n",
       "    </tr>\n",
       "  </thead>\n",
       "  <tbody>\n",
       "    <tr>\n",
       "      <th>0</th>\n",
       "      <td>8.5000</td>\n",
       "      <td>20</td>\n",
       "    </tr>\n",
       "    <tr>\n",
       "      <th>1</th>\n",
       "      <td>9.1000</td>\n",
       "      <td>25</td>\n",
       "    </tr>\n",
       "    <tr>\n",
       "      <th>2</th>\n",
       "      <td>8.8000</td>\n",
       "      <td>22</td>\n",
       "    </tr>\n",
       "    <tr>\n",
       "      <th>3</th>\n",
       "      <td>9.5000</td>\n",
       "      <td>33</td>\n",
       "    </tr>\n",
       "    <tr>\n",
       "      <th>4</th>\n",
       "      <td>9.2000</td>\n",
       "      <td>27</td>\n",
       "    </tr>\n",
       "  </tbody>\n",
       "</table>\n",
       "</div>"
      ],
      "text/plain": [
       "       X   y\n",
       "0 8.5000  20\n",
       "1 9.1000  25\n",
       "2 8.8000  22\n",
       "3 9.5000  33\n",
       "4 9.2000  27"
      ]
     },
     "execution_count": 5,
     "metadata": {},
     "output_type": "execute_result"
    }
   ],
   "source": [
    "pd.set_option('display.float_format', lambda x: f'{x:.4f}')\n",
    "myDataFrame = pd.DataFrame(X, columns=['X'])\n",
    "myDataFrame['y'] = y\n",
    "myDataFrame"
   ]
  },
  {
   "cell_type": "markdown",
   "id": "ffcf49e3-0972-453a-ad8d-9ab091ba808c",
   "metadata": {},
   "source": [
    "### Plotting a best fitted regression line\n",
    "<hr/>\n",
    "To plot a line the formula used is <b>y = mx + c</b> where \n",
    "<ol>\n",
    "    <li>m is slope</li>\n",
    "    <li>c is intercept</li>\n",
    "</ol>\n",
    "<b>Explanation:</b>\n",
    "<ol>\n",
    "    <li>y is the output (dependent variable). y is the variable (mouse weight) we want to predict.</li>\n",
    "    <li>X is the input (independent variable). We will predict y based on X.</li>\n",
    "    <li>The slope m is important because it tell us how much <u>y changes for each unit increase in X</u>.</li>\n",
    "    <li>The intercept c is important because it allows the regression line to shift up or down to better fit the data. <u>Without the intercept</u>, the regression line would be <u>forced to pass through the origin</u>, which may not reflect the true relationship between the variables.</li>\n",
    "</ol>"
   ]
  },
  {
   "cell_type": "markdown",
   "id": "64886af0-37c4-481f-9799-be26ecf77247",
   "metadata": {},
   "source": [
    "In simple linear regression<br>\n",
    "<ol>\n",
    "    <li><b>m = covariance(X, y) / Variance(X)</b><br/></li>\n",
    "    <li><b>c = covariance(X, y) / Variance(X)</b></li>\n",
    "</ol>"
   ]
  },
  {
   "cell_type": "markdown",
   "id": "e3323fc0-7d12-496e-98b2-8aced7665bfd",
   "metadata": {},
   "source": [
    "### Covariance\n",
    "\n",
    "Covariance is a measure of how the two variables, X and y change together. Covariance indicates the direction of the linear relationship between the two variables (positively related or negatively related). The formula for the covariance between X and y is:<br/>\n",
    "<b>Cov(X, y) = Mean((X - X_mean) * (y - y_mean))</b>\n",
    "<ol>\n",
    "    <li>(X - X_mean) -  To find how much X deviates from the Mean of X</li>\n",
    "    <li>(y - y_mean) -  To find how much y deviates from the Mean of y</li>\n",
    "</ol>\n",
    "<b>Multiplying the Deviations:</b><br/>\n",
    "By multiplying (X - X_mean) * (y - y_mean), we check whether X and Y move together. \n",
    "<ol>\n",
    "    <li>If both deviations are either positive or both negative, their product is positive, indicating that X and y tend to increase or decrease together.</li>\n",
    "    <li>If one deviation is positive and the other is negative, their product is negative, indicating that X and y tend to move in opposite directions.</li>\n",
    "</ol>\n",
    "<b>Interpretation of Covariance:</b>\n",
    "<ol>\n",
    "    <li>Positive Covariance: If Cov(X,Y) > 0, then X and y tend to increase or decrease together (i.e., they have a positive linear relationship).</li>\n",
    "    <li>Negative Covariance: If Cov(X,Y) < 0, then X and y tend to move in opposite directions (i.e., they have a negative linear relationship).</li>\n",
    "    <li>Zero Covariance: If Cov(X,Y) = 0, then there is no linear relationship between.</li>\n",
    "</ol>"
   ]
  },
  {
   "cell_type": "code",
   "execution_count": 6,
   "id": "31ffdf0d-32a6-46c3-93b5-6475c465ac9b",
   "metadata": {},
   "outputs": [
    {
     "name": "stdout",
     "output_type": "stream",
     "text": [
      "Mean value of mouse height (cm): 9.020000000000001\n",
      "Mean value of mouse weight (g): 25.4\n"
     ]
    }
   ],
   "source": [
    "# Let us calucate the X mean and y mean values\n",
    "mean_X_value = myDataFrame['X'].mean()\n",
    "mean_y_value = myDataFrame['y'].mean()\n",
    "print(\"Mean value of mouse height (cm):\", mean_X_value)\n",
    "print(\"Mean value of mouse weight (g):\", mean_y_value)"
   ]
  },
  {
   "cell_type": "code",
   "execution_count": 7,
   "id": "d6b5d738-13d0-4b90-926c-5a85f6a8ca95",
   "metadata": {
    "scrolled": true
   },
   "outputs": [
    {
     "data": {
      "text/html": [
       "<div>\n",
       "<style scoped>\n",
       "    .dataframe tbody tr th:only-of-type {\n",
       "        vertical-align: middle;\n",
       "    }\n",
       "\n",
       "    .dataframe tbody tr th {\n",
       "        vertical-align: top;\n",
       "    }\n",
       "\n",
       "    .dataframe thead th {\n",
       "        text-align: right;\n",
       "    }\n",
       "</style>\n",
       "<table border=\"1\" class=\"dataframe\">\n",
       "  <thead>\n",
       "    <tr style=\"text-align: right;\">\n",
       "      <th></th>\n",
       "      <th>X</th>\n",
       "      <th>y</th>\n",
       "      <th>X - X_mean</th>\n",
       "    </tr>\n",
       "  </thead>\n",
       "  <tbody>\n",
       "    <tr>\n",
       "      <th>0</th>\n",
       "      <td>8.5000</td>\n",
       "      <td>20</td>\n",
       "      <td>-0.5200</td>\n",
       "    </tr>\n",
       "    <tr>\n",
       "      <th>1</th>\n",
       "      <td>9.1000</td>\n",
       "      <td>25</td>\n",
       "      <td>0.0800</td>\n",
       "    </tr>\n",
       "    <tr>\n",
       "      <th>2</th>\n",
       "      <td>8.8000</td>\n",
       "      <td>22</td>\n",
       "      <td>-0.2200</td>\n",
       "    </tr>\n",
       "    <tr>\n",
       "      <th>3</th>\n",
       "      <td>9.5000</td>\n",
       "      <td>33</td>\n",
       "      <td>0.4800</td>\n",
       "    </tr>\n",
       "    <tr>\n",
       "      <th>4</th>\n",
       "      <td>9.2000</td>\n",
       "      <td>27</td>\n",
       "      <td>0.1800</td>\n",
       "    </tr>\n",
       "  </tbody>\n",
       "</table>\n",
       "</div>"
      ],
      "text/plain": [
       "       X   y  X - X_mean\n",
       "0 8.5000  20     -0.5200\n",
       "1 9.1000  25      0.0800\n",
       "2 8.8000  22     -0.2200\n",
       "3 9.5000  33      0.4800\n",
       "4 9.2000  27      0.1800"
      ]
     },
     "execution_count": 7,
     "metadata": {},
     "output_type": "execute_result"
    }
   ],
   "source": [
    "# Let us take every mouse height and see how much it is deviated from the average\n",
    "# Calculate X - X_mean for every individual item in X\n",
    "myDataFrame['X - X_mean'] = myDataFrame['X'] - mean_X_value\n",
    "myDataFrame"
   ]
  },
  {
   "cell_type": "code",
   "execution_count": 8,
   "id": "e2976b82-d102-4ef8-8f2b-ce91e3febf5e",
   "metadata": {},
   "outputs": [
    {
     "data": {
      "text/html": [
       "<div>\n",
       "<style scoped>\n",
       "    .dataframe tbody tr th:only-of-type {\n",
       "        vertical-align: middle;\n",
       "    }\n",
       "\n",
       "    .dataframe tbody tr th {\n",
       "        vertical-align: top;\n",
       "    }\n",
       "\n",
       "    .dataframe thead th {\n",
       "        text-align: right;\n",
       "    }\n",
       "</style>\n",
       "<table border=\"1\" class=\"dataframe\">\n",
       "  <thead>\n",
       "    <tr style=\"text-align: right;\">\n",
       "      <th></th>\n",
       "      <th>X</th>\n",
       "      <th>y</th>\n",
       "      <th>X - X_mean</th>\n",
       "      <th>y - y_mean</th>\n",
       "    </tr>\n",
       "  </thead>\n",
       "  <tbody>\n",
       "    <tr>\n",
       "      <th>0</th>\n",
       "      <td>8.5000</td>\n",
       "      <td>20</td>\n",
       "      <td>-0.5200</td>\n",
       "      <td>-5.4000</td>\n",
       "    </tr>\n",
       "    <tr>\n",
       "      <th>1</th>\n",
       "      <td>9.1000</td>\n",
       "      <td>25</td>\n",
       "      <td>0.0800</td>\n",
       "      <td>-0.4000</td>\n",
       "    </tr>\n",
       "    <tr>\n",
       "      <th>2</th>\n",
       "      <td>8.8000</td>\n",
       "      <td>22</td>\n",
       "      <td>-0.2200</td>\n",
       "      <td>-3.4000</td>\n",
       "    </tr>\n",
       "    <tr>\n",
       "      <th>3</th>\n",
       "      <td>9.5000</td>\n",
       "      <td>33</td>\n",
       "      <td>0.4800</td>\n",
       "      <td>7.6000</td>\n",
       "    </tr>\n",
       "    <tr>\n",
       "      <th>4</th>\n",
       "      <td>9.2000</td>\n",
       "      <td>27</td>\n",
       "      <td>0.1800</td>\n",
       "      <td>1.6000</td>\n",
       "    </tr>\n",
       "  </tbody>\n",
       "</table>\n",
       "</div>"
      ],
      "text/plain": [
       "       X   y  X - X_mean  y - y_mean\n",
       "0 8.5000  20     -0.5200     -5.4000\n",
       "1 9.1000  25      0.0800     -0.4000\n",
       "2 8.8000  22     -0.2200     -3.4000\n",
       "3 9.5000  33      0.4800      7.6000\n",
       "4 9.2000  27      0.1800      1.6000"
      ]
     },
     "execution_count": 8,
     "metadata": {},
     "output_type": "execute_result"
    }
   ],
   "source": [
    "# Let us take every mouse weight and see how much it is deviated from the average\n",
    "# Calculate y - y_mean for every individual item in y\n",
    "myDataFrame['y - y_mean'] = myDataFrame['y'] - mean_y_value\n",
    "myDataFrame"
   ]
  },
  {
   "cell_type": "code",
   "execution_count": 9,
   "id": "93e49f10-ecdc-4723-822f-a7b665d92eeb",
   "metadata": {},
   "outputs": [
    {
     "data": {
      "text/html": [
       "<div>\n",
       "<style scoped>\n",
       "    .dataframe tbody tr th:only-of-type {\n",
       "        vertical-align: middle;\n",
       "    }\n",
       "\n",
       "    .dataframe tbody tr th {\n",
       "        vertical-align: top;\n",
       "    }\n",
       "\n",
       "    .dataframe thead th {\n",
       "        text-align: right;\n",
       "    }\n",
       "</style>\n",
       "<table border=\"1\" class=\"dataframe\">\n",
       "  <thead>\n",
       "    <tr style=\"text-align: right;\">\n",
       "      <th></th>\n",
       "      <th>X</th>\n",
       "      <th>y</th>\n",
       "      <th>X - X_mean</th>\n",
       "      <th>y - y_mean</th>\n",
       "      <th>(X - X_mean) * (y - y_mean)</th>\n",
       "    </tr>\n",
       "  </thead>\n",
       "  <tbody>\n",
       "    <tr>\n",
       "      <th>0</th>\n",
       "      <td>8.5000</td>\n",
       "      <td>20</td>\n",
       "      <td>-0.5200</td>\n",
       "      <td>-5.4000</td>\n",
       "      <td>2.8080</td>\n",
       "    </tr>\n",
       "    <tr>\n",
       "      <th>1</th>\n",
       "      <td>9.1000</td>\n",
       "      <td>25</td>\n",
       "      <td>0.0800</td>\n",
       "      <td>-0.4000</td>\n",
       "      <td>-0.0320</td>\n",
       "    </tr>\n",
       "    <tr>\n",
       "      <th>2</th>\n",
       "      <td>8.8000</td>\n",
       "      <td>22</td>\n",
       "      <td>-0.2200</td>\n",
       "      <td>-3.4000</td>\n",
       "      <td>0.7480</td>\n",
       "    </tr>\n",
       "    <tr>\n",
       "      <th>3</th>\n",
       "      <td>9.5000</td>\n",
       "      <td>33</td>\n",
       "      <td>0.4800</td>\n",
       "      <td>7.6000</td>\n",
       "      <td>3.6480</td>\n",
       "    </tr>\n",
       "    <tr>\n",
       "      <th>4</th>\n",
       "      <td>9.2000</td>\n",
       "      <td>27</td>\n",
       "      <td>0.1800</td>\n",
       "      <td>1.6000</td>\n",
       "      <td>0.2880</td>\n",
       "    </tr>\n",
       "  </tbody>\n",
       "</table>\n",
       "</div>"
      ],
      "text/plain": [
       "       X   y  X - X_mean  y - y_mean  (X - X_mean) * (y - y_mean)\n",
       "0 8.5000  20     -0.5200     -5.4000                       2.8080\n",
       "1 9.1000  25      0.0800     -0.4000                      -0.0320\n",
       "2 8.8000  22     -0.2200     -3.4000                       0.7480\n",
       "3 9.5000  33      0.4800      7.6000                       3.6480\n",
       "4 9.2000  27      0.1800      1.6000                       0.2880"
      ]
     },
     "execution_count": 9,
     "metadata": {},
     "output_type": "execute_result"
    }
   ],
   "source": [
    "myDataFrame['(X - X_mean) * (y - y_mean)'] = myDataFrame['X - X_mean'] * myDataFrame['y - y_mean']\n",
    "myDataFrame"
   ]
  },
  {
   "cell_type": "markdown",
   "id": "5d5fe979-6ba5-4765-83c4-30ccf5fe73a2",
   "metadata": {},
   "source": [
    "### Variance\n",
    "\n",
    "Variance is a measure of how much the values in a dataset deviate from the mean. It quantifies the spread or dispersion of the data. The formula for the variance of a set of values X is:\n",
    "\n",
    "<b>Var(X) = Mean((X - X_mean) ** 2)</b><br/>\n",
    "\n",
    "<b>Interpretation of Variance:</b><br/>\n",
    "Variance gives you a numerical value that represents the spread of the data.<br/>\n",
    "<ol>\n",
    "    <li>A higher variance means the data points are more spread out from the mean</li>\n",
    "    <li>A lower variance means the data points are closer to the mean</li>\n",
    "</ol>"
   ]
  },
  {
   "cell_type": "code",
   "execution_count": 10,
   "id": "89198449-3d60-439e-aceb-1b12420b3495",
   "metadata": {},
   "outputs": [
    {
     "data": {
      "text/html": [
       "<div>\n",
       "<style scoped>\n",
       "    .dataframe tbody tr th:only-of-type {\n",
       "        vertical-align: middle;\n",
       "    }\n",
       "\n",
       "    .dataframe tbody tr th {\n",
       "        vertical-align: top;\n",
       "    }\n",
       "\n",
       "    .dataframe thead th {\n",
       "        text-align: right;\n",
       "    }\n",
       "</style>\n",
       "<table border=\"1\" class=\"dataframe\">\n",
       "  <thead>\n",
       "    <tr style=\"text-align: right;\">\n",
       "      <th></th>\n",
       "      <th>X</th>\n",
       "      <th>y</th>\n",
       "      <th>X - X_mean</th>\n",
       "      <th>y - y_mean</th>\n",
       "      <th>(X - X_mean) * (y - y_mean)</th>\n",
       "      <th>(X - X_mean) ^ 2</th>\n",
       "    </tr>\n",
       "  </thead>\n",
       "  <tbody>\n",
       "    <tr>\n",
       "      <th>0</th>\n",
       "      <td>8.5000</td>\n",
       "      <td>20</td>\n",
       "      <td>-0.5200</td>\n",
       "      <td>-5.4000</td>\n",
       "      <td>2.8080</td>\n",
       "      <td>0.2704</td>\n",
       "    </tr>\n",
       "    <tr>\n",
       "      <th>1</th>\n",
       "      <td>9.1000</td>\n",
       "      <td>25</td>\n",
       "      <td>0.0800</td>\n",
       "      <td>-0.4000</td>\n",
       "      <td>-0.0320</td>\n",
       "      <td>0.0064</td>\n",
       "    </tr>\n",
       "    <tr>\n",
       "      <th>2</th>\n",
       "      <td>8.8000</td>\n",
       "      <td>22</td>\n",
       "      <td>-0.2200</td>\n",
       "      <td>-3.4000</td>\n",
       "      <td>0.7480</td>\n",
       "      <td>0.0484</td>\n",
       "    </tr>\n",
       "    <tr>\n",
       "      <th>3</th>\n",
       "      <td>9.5000</td>\n",
       "      <td>33</td>\n",
       "      <td>0.4800</td>\n",
       "      <td>7.6000</td>\n",
       "      <td>3.6480</td>\n",
       "      <td>0.2304</td>\n",
       "    </tr>\n",
       "    <tr>\n",
       "      <th>4</th>\n",
       "      <td>9.2000</td>\n",
       "      <td>27</td>\n",
       "      <td>0.1800</td>\n",
       "      <td>1.6000</td>\n",
       "      <td>0.2880</td>\n",
       "      <td>0.0324</td>\n",
       "    </tr>\n",
       "  </tbody>\n",
       "</table>\n",
       "</div>"
      ],
      "text/plain": [
       "       X   y  X - X_mean  y - y_mean  (X - X_mean) * (y - y_mean)  \\\n",
       "0 8.5000  20     -0.5200     -5.4000                       2.8080   \n",
       "1 9.1000  25      0.0800     -0.4000                      -0.0320   \n",
       "2 8.8000  22     -0.2200     -3.4000                       0.7480   \n",
       "3 9.5000  33      0.4800      7.6000                       3.6480   \n",
       "4 9.2000  27      0.1800      1.6000                       0.2880   \n",
       "\n",
       "   (X - X_mean) ^ 2  \n",
       "0            0.2704  \n",
       "1            0.0064  \n",
       "2            0.0484  \n",
       "3            0.2304  \n",
       "4            0.0324  "
      ]
     },
     "execution_count": 10,
     "metadata": {},
     "output_type": "execute_result"
    }
   ],
   "source": [
    "myDataFrame['(X - X_mean) ^ 2'] = myDataFrame['X - X_mean'] * myDataFrame['X - X_mean']\n",
    "myDataFrame"
   ]
  },
  {
   "cell_type": "code",
   "execution_count": 11,
   "id": "a492fa62-4326-4555-bc33-65faf518fa74",
   "metadata": {},
   "outputs": [
    {
     "data": {
      "text/html": [
       "<div>\n",
       "<style scoped>\n",
       "    .dataframe tbody tr th:only-of-type {\n",
       "        vertical-align: middle;\n",
       "    }\n",
       "\n",
       "    .dataframe tbody tr th {\n",
       "        vertical-align: top;\n",
       "    }\n",
       "\n",
       "    .dataframe thead th {\n",
       "        text-align: right;\n",
       "    }\n",
       "</style>\n",
       "<table border=\"1\" class=\"dataframe\">\n",
       "  <thead>\n",
       "    <tr style=\"text-align: right;\">\n",
       "      <th></th>\n",
       "      <th>X</th>\n",
       "      <th>y</th>\n",
       "      <th>X - X_mean</th>\n",
       "      <th>y - y_mean</th>\n",
       "      <th>(X - X_mean) * (y - y_mean)</th>\n",
       "      <th>(X - X_mean) ^ 2</th>\n",
       "    </tr>\n",
       "  </thead>\n",
       "  <tbody>\n",
       "    <tr>\n",
       "      <th>0</th>\n",
       "      <td>8.5000</td>\n",
       "      <td>20.0000</td>\n",
       "      <td>-0.5200</td>\n",
       "      <td>-5.4000</td>\n",
       "      <td>2.8080</td>\n",
       "      <td>0.2704</td>\n",
       "    </tr>\n",
       "    <tr>\n",
       "      <th>1</th>\n",
       "      <td>9.1000</td>\n",
       "      <td>25.0000</td>\n",
       "      <td>0.0800</td>\n",
       "      <td>-0.4000</td>\n",
       "      <td>-0.0320</td>\n",
       "      <td>0.0064</td>\n",
       "    </tr>\n",
       "    <tr>\n",
       "      <th>2</th>\n",
       "      <td>8.8000</td>\n",
       "      <td>22.0000</td>\n",
       "      <td>-0.2200</td>\n",
       "      <td>-3.4000</td>\n",
       "      <td>0.7480</td>\n",
       "      <td>0.0484</td>\n",
       "    </tr>\n",
       "    <tr>\n",
       "      <th>3</th>\n",
       "      <td>9.5000</td>\n",
       "      <td>33.0000</td>\n",
       "      <td>0.4800</td>\n",
       "      <td>7.6000</td>\n",
       "      <td>3.6480</td>\n",
       "      <td>0.2304</td>\n",
       "    </tr>\n",
       "    <tr>\n",
       "      <th>4</th>\n",
       "      <td>9.2000</td>\n",
       "      <td>27.0000</td>\n",
       "      <td>0.1800</td>\n",
       "      <td>1.6000</td>\n",
       "      <td>0.2880</td>\n",
       "      <td>0.0324</td>\n",
       "    </tr>\n",
       "    <tr>\n",
       "      <th>MEAN</th>\n",
       "      <td>9.0200</td>\n",
       "      <td>25.4000</td>\n",
       "      <td>-0.0000</td>\n",
       "      <td>0.0000</td>\n",
       "      <td>1.4920</td>\n",
       "      <td>0.1176</td>\n",
       "    </tr>\n",
       "    <tr>\n",
       "      <th>SUM</th>\n",
       "      <td>45.1000</td>\n",
       "      <td>127.0000</td>\n",
       "      <td>-0.0000</td>\n",
       "      <td>0.0000</td>\n",
       "      <td>7.4600</td>\n",
       "      <td>0.5880</td>\n",
       "    </tr>\n",
       "  </tbody>\n",
       "</table>\n",
       "</div>"
      ],
      "text/plain": [
       "           X        y  X - X_mean  y - y_mean  (X - X_mean) * (y - y_mean)  \\\n",
       "0     8.5000  20.0000     -0.5200     -5.4000                       2.8080   \n",
       "1     9.1000  25.0000      0.0800     -0.4000                      -0.0320   \n",
       "2     8.8000  22.0000     -0.2200     -3.4000                       0.7480   \n",
       "3     9.5000  33.0000      0.4800      7.6000                       3.6480   \n",
       "4     9.2000  27.0000      0.1800      1.6000                       0.2880   \n",
       "MEAN  9.0200  25.4000     -0.0000      0.0000                       1.4920   \n",
       "SUM  45.1000 127.0000     -0.0000      0.0000                       7.4600   \n",
       "\n",
       "      (X - X_mean) ^ 2  \n",
       "0               0.2704  \n",
       "1               0.0064  \n",
       "2               0.0484  \n",
       "3               0.2304  \n",
       "4               0.0324  \n",
       "MEAN            0.1176  \n",
       "SUM             0.5880  "
      ]
     },
     "execution_count": 11,
     "metadata": {},
     "output_type": "execute_result"
    }
   ],
   "source": [
    "# Let us add a new row MEAN and SUM\n",
    "myDataFrame.loc['MEAN'] = myDataFrame.iloc[0:5].mean()\n",
    "myDataFrame.loc['SUM'] = myDataFrame.iloc[0:5].sum()\n",
    "myDataFrame"
   ]
  },
  {
   "cell_type": "code",
   "execution_count": 12,
   "id": "a3800fa7-1259-4db6-a291-fa0d03ca4235",
   "metadata": {},
   "outputs": [
    {
     "name": "stdout",
     "output_type": "stream",
     "text": [
      "Covariance: 1.4919999999999993\n"
     ]
    }
   ],
   "source": [
    "covariance = myDataFrame.loc['MEAN', '(X - X_mean) * (y - y_mean)']\n",
    "print(\"Covariance:\", covariance)"
   ]
  },
  {
   "cell_type": "code",
   "execution_count": 13,
   "id": "603ce197-c79e-4bfb-84f6-3af199a41600",
   "metadata": {},
   "outputs": [
    {
     "name": "stdout",
     "output_type": "stream",
     "text": [
      "Covariance: [[ 0.1176  1.492 ]\n",
      " [ 1.492  20.24  ]]\n"
     ]
    }
   ],
   "source": [
    "covariance_by_np = np.cov(X, y, ddof=0)\n",
    "print(\"Covariance:\", covariance_by_np)"
   ]
  },
  {
   "cell_type": "code",
   "execution_count": 14,
   "id": "7fa6674f-2b56-4f8d-869f-0659fd68c8f8",
   "metadata": {},
   "outputs": [
    {
     "name": "stdout",
     "output_type": "stream",
     "text": [
      "Variance: 0.11759999999999986\n"
     ]
    }
   ],
   "source": [
    "variance = myDataFrame.loc['MEAN', '(X - X_mean) ^ 2']\n",
    "print(\"Variance:\", variance)"
   ]
  },
  {
   "cell_type": "code",
   "execution_count": 15,
   "id": "16ec4487-c21a-4d82-874d-095d2838eb97",
   "metadata": {},
   "outputs": [
    {
     "name": "stdout",
     "output_type": "stream",
     "text": [
      "Covariance: 0.11759999999999986\n"
     ]
    }
   ],
   "source": [
    "variance_by_np = np.var(myDataFrame.iloc[0:5]['X'], ddof=0)\n",
    "print(\"Covariance:\", variance_by_np)"
   ]
  },
  {
   "cell_type": "code",
   "execution_count": 16,
   "id": "01f655a0-f049-42f8-bb39-afd2b3b57e7f",
   "metadata": {},
   "outputs": [
    {
     "name": "stdout",
     "output_type": "stream",
     "text": [
      "Covariance: 20.24\n"
     ]
    }
   ],
   "source": [
    "variance_by_np = np.var(myDataFrame.iloc[0:5]['y'], ddof=0)\n",
    "print(\"Covariance:\", variance_by_np)"
   ]
  },
  {
   "cell_type": "code",
   "execution_count": 17,
   "id": "3c5765b2-52b7-4aeb-a5df-13d807068132",
   "metadata": {},
   "outputs": [
    {
     "data": {
      "text/plain": [
       "np.float64(12.687074829931982)"
      ]
     },
     "execution_count": 17,
     "metadata": {},
     "output_type": "execute_result"
    }
   ],
   "source": [
    "slope = covariance / variance\n",
    "slope"
   ]
  },
  {
   "cell_type": "code",
   "execution_count": 18,
   "id": "c37343c2-dd47-418b-8e0c-1a82d85a0017",
   "metadata": {},
   "outputs": [
    {
     "data": {
      "text/plain": [
       "np.float64(-89.0374149659865)"
      ]
     },
     "execution_count": 18,
     "metadata": {},
     "output_type": "execute_result"
    }
   ],
   "source": [
    "# y = mx + c\n",
    "coefficient = (myDataFrame.loc['SUM', 'y'] - (slope * myDataFrame.loc['SUM', 'X'])) / 5\n",
    "coefficient"
   ]
  },
  {
   "cell_type": "code",
   "execution_count": 19,
   "id": "83907145-0466-4a30-9de1-1b3cf285a6a4",
   "metadata": {},
   "outputs": [
    {
     "name": "stdout",
     "output_type": "stream",
     "text": [
      "12.687074829931978\n",
      "-89.03741496598641\n"
     ]
    }
   ],
   "source": [
    "polyfit_slope, polyfit_coefficient = np.polyfit(X, y, 1)\n",
    "print(polyfit_slope)\n",
    "print(polyfit_coefficient)"
   ]
  },
  {
   "cell_type": "code",
   "execution_count": 20,
   "id": "92b6108c-a73d-48ca-ab16-dcf2faf73f9f",
   "metadata": {},
   "outputs": [],
   "source": [
    "x_fit = np.linspace(np.min(X), np.max(X), 100)\n",
    "y_fit = (slope * x_fit) + coefficient"
   ]
  },
  {
   "cell_type": "code",
   "execution_count": 21,
   "id": "b453209d-9da1-4ebf-bf8f-8e3e2967ec89",
   "metadata": {},
   "outputs": [
    {
     "data": {
      "text/plain": [
       "[<matplotlib.lines.Line2D at 0x27650466330>]"
      ]
     },
     "execution_count": 21,
     "metadata": {},
     "output_type": "execute_result"
    },
    {
     "data": {
      "image/png": "[encoded data removed]",
      "text/plain": [
       "<Figure size 400x300 with 1 Axes>"
      ]
     },
     "metadata": {},
     "output_type": "display_data"
    }
   ],
   "source": [
    "plt.figure(figsize=(4,3))\n",
    "plt.scatter(X, y, color='blue')\n",
    "plt.plot(x_fit, y_fit)"
   ]
  },
  {
   "cell_type": "markdown",
   "id": "a2c45a3b-af45-4588-8f61-ad00b706b012",
   "metadata": {},
   "source": [
    "### Calculating and plotting Residuals"
   ]
  },
  {
   "cell_type": "markdown",
   "id": "daf87bc5-a153-407e-9597-521a9bf41725",
   "metadata": {},
   "source": [
    "#### Calculate and the predict y value for each x value"
   ]
  },
  {
   "cell_type": "code",
   "execution_count": 22,
   "id": "9b151802-8547-4fce-aea7-b197adbff87b",
   "metadata": {},
   "outputs": [
    {
     "data": {
      "text/plain": [
       "array([18.80272109, 26.41496599, 22.60884354, 31.48979592, 27.68367347])"
      ]
     },
     "execution_count": 22,
     "metadata": {},
     "output_type": "execute_result"
    }
   ],
   "source": [
    "# Let us calculate the predicted values\n",
    "y_pred = slope * X + coefficient\n",
    "y_pred"
   ]
  },
  {
   "cell_type": "code",
   "execution_count": 23,
   "id": "71af33c0-ac25-4a7b-bd15-0395d4d6de54",
   "metadata": {},
   "outputs": [
    {
     "data": {
      "text/plain": [
       "<matplotlib.collections.PathCollection at 0x276504966f0>"
      ]
     },
     "execution_count": 23,
     "metadata": {},
     "output_type": "execute_result"
    },
    {
     "data": {
      "image/png": "[encoded data removed]",
      "text/plain": [
       "<Figure size 400x300 with 1 Axes>"
      ]
     },
     "metadata": {},
     "output_type": "display_data"
    }
   ],
   "source": [
    "# plot the actual value in green round marker vs predicted value in blue x marker\n",
    "# show the residuals line in red color\n",
    "plt.figure(figsize=(4,3))\n",
    "plt.plot(x_fit, y_fit, color='black')\n",
    "for x1, y1, p1 in zip(X, y, y_pred):\n",
    "    plt.plot([x1, x1], [y1, p1], color='red', marker='x', markersize=5, markevery=[1, 1], markerfacecolor='blue', markeredgecolor='blue')\n",
    "plt.scatter(X, y, color='green', marker='o', s=15)"
   ]
  },
  {
   "cell_type": "markdown",
   "id": "b83a0801-f85c-4398-bc23-0fa2510fec1f",
   "metadata": {},
   "source": [
    "#### Calculating R squared value from the residual values"
   ]
  },
  {
   "cell_type": "code",
   "execution_count": 24,
   "id": "b233b5f5-70d9-4431-97ea-7aa61cd326ea",
   "metadata": {},
   "outputs": [
    {
     "data": {
      "text/plain": [
       "array([ 1.19727891, -1.41496599, -0.60884354,  1.51020408, -0.68367347])"
      ]
     },
     "execution_count": 24,
     "metadata": {},
     "output_type": "execute_result"
    }
   ],
   "source": [
    "residuals = y - y_pred\n",
    "residuals"
   ]
  },
  {
   "cell_type": "code",
   "execution_count": 25,
   "id": "b30ab443-aee3-43fc-8216-4411e4026bf9",
   "metadata": {},
   "outputs": [
    {
     "data": {
      "text/plain": [
       "np.float64(6.554421768707507)"
      ]
     },
     "execution_count": 25,
     "metadata": {},
     "output_type": "execute_result"
    }
   ],
   "source": [
    "# sum of square of residuals of best fitted line\n",
    "ss_residuals = np.sum(residuals ** 2)\n",
    "ss_residuals"
   ]
  },
  {
   "cell_type": "code",
   "execution_count": 26,
   "id": "2fea44a4-618f-4ffe-8cea-3c0cc2454254",
   "metadata": {},
   "outputs": [
    {
     "data": {
      "text/plain": [
       "np.float64(101.19999999999999)"
      ]
     },
     "execution_count": 26,
     "metadata": {},
     "output_type": "execute_result"
    }
   ],
   "source": [
    "mean_y = np.mean(y)\n",
    "average_residuals = y - mean_y\n",
    "ss_tot = np.sum(average_residuals ** 2)\n",
    "ss_tot"
   ]
  },
  {
   "cell_type": "code",
   "execution_count": 27,
   "id": "bff9077d-bb31-4150-989a-c44b8db404d6",
   "metadata": {},
   "outputs": [
    {
     "data": {
      "text/plain": [
       "np.float64(0.9352329864752222)"
      ]
     },
     "execution_count": 27,
     "metadata": {},
     "output_type": "execute_result"
    }
   ],
   "source": [
    "r_squared_value = 1 - (ss_residuals/ss_tot)\n",
    "r_squared_value"
   ]
  },
  {
   "cell_type": "code",
   "execution_count": 28,
   "id": "48e0cb1b-f83e-46bc-896d-1de76ef7c6b0",
   "metadata": {},
   "outputs": [
    {
     "data": {
      "text/plain": [
       "0.9352329864752222"
      ]
     },
     "execution_count": 28,
     "metadata": {},
     "output_type": "execute_result"
    }
   ],
   "source": [
    "r_squared = r2_score(y, y_pred)\n",
    "r_squared"
   ]
  },
  {
   "cell_type": "markdown",
   "id": "ac72c56f-78db-423d-ad53-b1f2b710c9c5",
   "metadata": {},
   "source": [
    "#### Homoscedasticity of Errors:\n",
    "<ol>\n",
    "    <li>In a regression model, we try to predict something (like mouse weight) based on some input (like mouse height).</li>\n",
    "    <li>The difference between the actual values and the predicted values is called errors or residuals.</li>\n",
    "    <li>Homoscedasticity means that no matter what the predicted value is, the size of the errors stays roughly the same.</li>\n",
    "    <li>If the errors are not spread out evenly (i.e., heteroscedasticity exists), your model might be making better predictions for some values and worse predictions for others. This can make your model unreliable, especially when you try to make predictions for new data.</li>\n",
    "</ol>"
   ]
  },
  {
   "cell_type": "code",
   "execution_count": 29,
   "id": "d5380260-7d05-4c94-8d66-d027a250c666",
   "metadata": {},
   "outputs": [
    {
     "data": {
      "text/plain": [
       "array([ 1.19727891, -1.41496599, -0.60884354,  1.51020408, -0.68367347])"
      ]
     },
     "execution_count": 29,
     "metadata": {},
     "output_type": "execute_result"
    }
   ],
   "source": [
    "residuals = y - y_pred\n",
    "residuals"
   ]
  },
  {
   "cell_type": "code",
   "execution_count": 30,
   "id": "a87d28fa-da06-4a0b-9cc6-ed6c9e711cfe",
   "metadata": {},
   "outputs": [
    {
     "data": {
      "image/png": "[encoded data removed]",
      "text/plain": [
       "<Figure size 400x300 with 1 Axes>"
      ]
     },
     "metadata": {},
     "output_type": "display_data"
    }
   ],
   "source": [
    "plt.figure(figsize=(4,3))\n",
    "plt.scatter(y_pred, residuals)\n",
    "plt.axhline(y=0, color='r', linestyle='--')\n",
    "plt.xlabel('Fitted values (Predicted Y)')\n",
    "plt.ylabel('Residuals')\n",
    "plt.title('Residuals vs Fitted Values')\n",
    "plt.show()"
   ]
  },
  {
   "cell_type": "markdown",
   "id": "c8347365-c12b-4d20-8596-8eca7b4552a5",
   "metadata": {},
   "source": [
    "<b>Homoscedasticity Interpretation:</b><br/>\n",
    "<ol>\n",
    "    <li>If the residuals are randomly scattered around 0 with no clear pattern (such as a cone or funnel shape), the assumption of homoscedasticity holds.</li>\n",
    "    <li>Heteroscedasticity: If the residuals form a funnel shape (either narrowing or widening as fitted values increase), this indicates heteroscedasticity (i.e., the variance of the residuals changes with the predicted values).</li>\n",
    "</ol>"
   ]
  },
  {
   "cell_type": "code",
   "execution_count": null,
   "id": "f1fab641-b910-4711-8685-13aa5b040603",
   "metadata": {},
   "outputs": [],
   "source": []
  }
 ],
 "metadata": {
  "kernelspec": {
   "display_name": "Python 3 (ipykernel)",
   "language": "python",
   "name": "python3"
  },
  "language_info": {
   "codemirror_mode": {
    "name": "ipython",
    "version": 3
   },
   "file_extension": ".py",
   "mimetype": "text/x-python",
   "name": "python",
   "nbconvert_exporter": "python",
   "pygments_lexer": "ipython3",
   "version": "3.12.4"
  }
 },
 "nbformat": 4,
 "nbformat_minor": 5
}
